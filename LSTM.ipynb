{
  "nbformat": 4,
  "nbformat_minor": 0,
  "metadata": {
    "colab": {
      "name": "LSTM.ipynb",
      "provenance": [],
      "collapsed_sections": []
    },
    "kernelspec": {
      "name": "python3",
      "display_name": "Python 3"
    },
    "language_info": {
      "name": "python"
    },
    "accelerator": "GPU"
  },
  "cells": [
    {
      "cell_type": "code",
      "source": [
        "import nltk\n",
        "nltk.download('stopwords')\n",
        "import pandas as pd\n",
        "import numpy as np\n",
        "from nltk.corpus import stopwords\n",
        "import tensorflow as tf\n",
        "from sklearn.metrics import accuracy_score\n",
        "from sklearn.metrics import f1_score\n",
        "from sklearn.metrics import precision_score\n",
        "from sklearn.metrics import recall_score"
      ],
      "metadata": {
        "colab": {
          "base_uri": "https://localhost:8080/"
        },
        "id": "tAV8qk_Z19Zk",
        "outputId": "7ba77fbe-a3af-475d-aa0e-cc50b69454f7"
      },
      "execution_count": null,
      "outputs": [
        {
          "output_type": "stream",
          "name": "stderr",
          "text": [
            "[nltk_data] Downloading package stopwords to /root/nltk_data...\n",
            "[nltk_data]   Unzipping corpora/stopwords.zip.\n"
          ]
        }
      ]
    },
    {
      "cell_type": "code",
      "execution_count": null,
      "metadata": {
        "id": "Nv69EBq914Vi"
      },
      "outputs": [],
      "source": [
        "df_train = pd.read_excel('2022-05-06_19_17_37.xlsx', sheet_name='Comments',skiprows=1)  "
      ]
    },
    {
      "cell_type": "code",
      "source": [
        "df_train"
      ],
      "metadata": {
        "colab": {
          "base_uri": "https://localhost:8080/",
          "height": 637
        },
        "id": "5ujRUrx82nfk",
        "outputId": "6801169c-e89a-4063-d75c-ea511bf014f4"
      },
      "execution_count": null,
      "outputs": [
        {
          "output_type": "execute_result",
          "data": {
            "text/plain": [
              "      Социальная сеть           ID поста     ID комментария  \\\n",
              "0           Вконтакте    -115807015_2334       5412482_2336   \n",
              "1           Вконтакте  -30666517_1774956  308730199_1774960   \n",
              "2           Вконтакте  -30666517_1774956   10784303_1774979   \n",
              "3           Вконтакте  -30666517_1774956  586953361_1775092   \n",
              "4           Вконтакте  -30666517_1774956   19496621_1775350   \n",
              "...               ...                ...                ...   \n",
              "21493       Вконтакте    -24682865_28855       608612_29743   \n",
              "21494       Вконтакте    -24682865_28855    514006271_30353   \n",
              "21495       Вконтакте   -139121250_17896    551359045_17980   \n",
              "21496       Вконтакте   -139121250_17896    510436278_17982   \n",
              "21497       Вконтакте       -718901_3582     558639831_3603   \n",
              "\n",
              "                     Владелец  ID Владелеца  \\\n",
              "0           Валентин Точилкин     5412482.0   \n",
              "1              Денис Гончаров   308730199.0   \n",
              "2                  Олег Кирин    10784303.0   \n",
              "3             Замбек Замбеков   586953361.0   \n",
              "4      Александр Бирабиджанов    19496621.0   \n",
              "...                       ...           ...   \n",
              "21493         Алексей Рысаков      608612.0   \n",
              "21494              Red Kirill   514006271.0   \n",
              "21495           Владимир Прин   551359045.0   \n",
              "21496              Дима Асеев   510436278.0   \n",
              "21497        Алексей Павловец   558639831.0   \n",
              "\n",
              "                                                   Текст Эмоциональный окрас  \\\n",
              "0      Задумка понравилась! Думаю будет смотреться лу...       Нейтральность   \n",
              "1      Вам тоже здоровья и удачи в прошлом и крепкого...          Вежливость   \n",
              "2      Полагаю: Вера и Надежда – это тимлид и прожект...                Юмор   \n",
              "3                 этот интеллект на али давно существует       Нейтральность   \n",
              "4                                     Будет вечный Свет.       Нейтральность   \n",
              "...                                                  ...                 ...   \n",
              "21493  С мая месяца мурыжат с возвратом денег. Все за...             Негатив   \n",
              "21494                                         Нет войне!       Нейтральность   \n",
              "21495            Чот много смартфонов на винде я погляжу       Нейтральность   \n",
              "21496  На тот момент система была хорошей, и мне каже...       Нейтральность   \n",
              "21497  Мой сын ему 12 лет самостоятельно изучает JS. ...       Нейтральность   \n",
              "\n",
              "                      Дата  Лайков  \n",
              "0      2021-12-31 08:19:05       1  \n",
              "1      2021-12-31 07:09:40       9  \n",
              "2      2021-12-31 09:20:39       4  \n",
              "3      2021-12-31 20:38:00       1  \n",
              "4      2022-01-03 00:04:52       1  \n",
              "...                    ...     ...  \n",
              "21493  2021-12-08 19:23:12       1  \n",
              "21494  2022-03-01 14:40:12       0  \n",
              "21495  2021-09-05 19:02:41       0  \n",
              "21496  2021-09-05 19:06:47       8  \n",
              "21497  2021-09-10 20:28:53       0  \n",
              "\n",
              "[21498 rows x 9 columns]"
            ],
            "text/html": [
              "\n",
              "  <div id=\"df-357c6821-1abd-4916-a2f0-f013e2df2901\">\n",
              "    <div class=\"colab-df-container\">\n",
              "      <div>\n",
              "<style scoped>\n",
              "    .dataframe tbody tr th:only-of-type {\n",
              "        vertical-align: middle;\n",
              "    }\n",
              "\n",
              "    .dataframe tbody tr th {\n",
              "        vertical-align: top;\n",
              "    }\n",
              "\n",
              "    .dataframe thead th {\n",
              "        text-align: right;\n",
              "    }\n",
              "</style>\n",
              "<table border=\"1\" class=\"dataframe\">\n",
              "  <thead>\n",
              "    <tr style=\"text-align: right;\">\n",
              "      <th></th>\n",
              "      <th>Социальная сеть</th>\n",
              "      <th>ID поста</th>\n",
              "      <th>ID комментария</th>\n",
              "      <th>Владелец</th>\n",
              "      <th>ID Владелеца</th>\n",
              "      <th>Текст</th>\n",
              "      <th>Эмоциональный окрас</th>\n",
              "      <th>Дата</th>\n",
              "      <th>Лайков</th>\n",
              "    </tr>\n",
              "  </thead>\n",
              "  <tbody>\n",
              "    <tr>\n",
              "      <th>0</th>\n",
              "      <td>Вконтакте</td>\n",
              "      <td>-115807015_2334</td>\n",
              "      <td>5412482_2336</td>\n",
              "      <td>Валентин Точилкин</td>\n",
              "      <td>5412482.0</td>\n",
              "      <td>Задумка понравилась! Думаю будет смотреться лу...</td>\n",
              "      <td>Нейтральность</td>\n",
              "      <td>2021-12-31 08:19:05</td>\n",
              "      <td>1</td>\n",
              "    </tr>\n",
              "    <tr>\n",
              "      <th>1</th>\n",
              "      <td>Вконтакте</td>\n",
              "      <td>-30666517_1774956</td>\n",
              "      <td>308730199_1774960</td>\n",
              "      <td>Денис Гончаров</td>\n",
              "      <td>308730199.0</td>\n",
              "      <td>Вам тоже здоровья и удачи в прошлом и крепкого...</td>\n",
              "      <td>Вежливость</td>\n",
              "      <td>2021-12-31 07:09:40</td>\n",
              "      <td>9</td>\n",
              "    </tr>\n",
              "    <tr>\n",
              "      <th>2</th>\n",
              "      <td>Вконтакте</td>\n",
              "      <td>-30666517_1774956</td>\n",
              "      <td>10784303_1774979</td>\n",
              "      <td>Олег Кирин</td>\n",
              "      <td>10784303.0</td>\n",
              "      <td>Полагаю: Вера и Надежда – это тимлид и прожект...</td>\n",
              "      <td>Юмор</td>\n",
              "      <td>2021-12-31 09:20:39</td>\n",
              "      <td>4</td>\n",
              "    </tr>\n",
              "    <tr>\n",
              "      <th>3</th>\n",
              "      <td>Вконтакте</td>\n",
              "      <td>-30666517_1774956</td>\n",
              "      <td>586953361_1775092</td>\n",
              "      <td>Замбек Замбеков</td>\n",
              "      <td>586953361.0</td>\n",
              "      <td>этот интеллект на али давно существует</td>\n",
              "      <td>Нейтральность</td>\n",
              "      <td>2021-12-31 20:38:00</td>\n",
              "      <td>1</td>\n",
              "    </tr>\n",
              "    <tr>\n",
              "      <th>4</th>\n",
              "      <td>Вконтакте</td>\n",
              "      <td>-30666517_1774956</td>\n",
              "      <td>19496621_1775350</td>\n",
              "      <td>Александр Бирабиджанов</td>\n",
              "      <td>19496621.0</td>\n",
              "      <td>Будет вечный Свет.</td>\n",
              "      <td>Нейтральность</td>\n",
              "      <td>2022-01-03 00:04:52</td>\n",
              "      <td>1</td>\n",
              "    </tr>\n",
              "    <tr>\n",
              "      <th>...</th>\n",
              "      <td>...</td>\n",
              "      <td>...</td>\n",
              "      <td>...</td>\n",
              "      <td>...</td>\n",
              "      <td>...</td>\n",
              "      <td>...</td>\n",
              "      <td>...</td>\n",
              "      <td>...</td>\n",
              "      <td>...</td>\n",
              "    </tr>\n",
              "    <tr>\n",
              "      <th>21493</th>\n",
              "      <td>Вконтакте</td>\n",
              "      <td>-24682865_28855</td>\n",
              "      <td>608612_29743</td>\n",
              "      <td>Алексей Рысаков</td>\n",
              "      <td>608612.0</td>\n",
              "      <td>С мая месяца мурыжат с возвратом денег. Все за...</td>\n",
              "      <td>Негатив</td>\n",
              "      <td>2021-12-08 19:23:12</td>\n",
              "      <td>1</td>\n",
              "    </tr>\n",
              "    <tr>\n",
              "      <th>21494</th>\n",
              "      <td>Вконтакте</td>\n",
              "      <td>-24682865_28855</td>\n",
              "      <td>514006271_30353</td>\n",
              "      <td>Red Kirill</td>\n",
              "      <td>514006271.0</td>\n",
              "      <td>Нет войне!</td>\n",
              "      <td>Нейтральность</td>\n",
              "      <td>2022-03-01 14:40:12</td>\n",
              "      <td>0</td>\n",
              "    </tr>\n",
              "    <tr>\n",
              "      <th>21495</th>\n",
              "      <td>Вконтакте</td>\n",
              "      <td>-139121250_17896</td>\n",
              "      <td>551359045_17980</td>\n",
              "      <td>Владимир Прин</td>\n",
              "      <td>551359045.0</td>\n",
              "      <td>Чот много смартфонов на винде я погляжу</td>\n",
              "      <td>Нейтральность</td>\n",
              "      <td>2021-09-05 19:02:41</td>\n",
              "      <td>0</td>\n",
              "    </tr>\n",
              "    <tr>\n",
              "      <th>21496</th>\n",
              "      <td>Вконтакте</td>\n",
              "      <td>-139121250_17896</td>\n",
              "      <td>510436278_17982</td>\n",
              "      <td>Дима Асеев</td>\n",
              "      <td>510436278.0</td>\n",
              "      <td>На тот момент система была хорошей, и мне каже...</td>\n",
              "      <td>Нейтральность</td>\n",
              "      <td>2021-09-05 19:06:47</td>\n",
              "      <td>8</td>\n",
              "    </tr>\n",
              "    <tr>\n",
              "      <th>21497</th>\n",
              "      <td>Вконтакте</td>\n",
              "      <td>-718901_3582</td>\n",
              "      <td>558639831_3603</td>\n",
              "      <td>Алексей Павловец</td>\n",
              "      <td>558639831.0</td>\n",
              "      <td>Мой сын ему 12 лет самостоятельно изучает JS. ...</td>\n",
              "      <td>Нейтральность</td>\n",
              "      <td>2021-09-10 20:28:53</td>\n",
              "      <td>0</td>\n",
              "    </tr>\n",
              "  </tbody>\n",
              "</table>\n",
              "<p>21498 rows × 9 columns</p>\n",
              "</div>\n",
              "      <button class=\"colab-df-convert\" onclick=\"convertToInteractive('df-357c6821-1abd-4916-a2f0-f013e2df2901')\"\n",
              "              title=\"Convert this dataframe to an interactive table.\"\n",
              "              style=\"display:none;\">\n",
              "        \n",
              "  <svg xmlns=\"http://www.w3.org/2000/svg\" height=\"24px\"viewBox=\"0 0 24 24\"\n",
              "       width=\"24px\">\n",
              "    <path d=\"M0 0h24v24H0V0z\" fill=\"none\"/>\n",
              "    <path d=\"M18.56 5.44l.94 2.06.94-2.06 2.06-.94-2.06-.94-.94-2.06-.94 2.06-2.06.94zm-11 1L8.5 8.5l.94-2.06 2.06-.94-2.06-.94L8.5 2.5l-.94 2.06-2.06.94zm10 10l.94 2.06.94-2.06 2.06-.94-2.06-.94-.94-2.06-.94 2.06-2.06.94z\"/><path d=\"M17.41 7.96l-1.37-1.37c-.4-.4-.92-.59-1.43-.59-.52 0-1.04.2-1.43.59L10.3 9.45l-7.72 7.72c-.78.78-.78 2.05 0 2.83L4 21.41c.39.39.9.59 1.41.59.51 0 1.02-.2 1.41-.59l7.78-7.78 2.81-2.81c.8-.78.8-2.07 0-2.86zM5.41 20L4 18.59l7.72-7.72 1.47 1.35L5.41 20z\"/>\n",
              "  </svg>\n",
              "      </button>\n",
              "      \n",
              "  <style>\n",
              "    .colab-df-container {\n",
              "      display:flex;\n",
              "      flex-wrap:wrap;\n",
              "      gap: 12px;\n",
              "    }\n",
              "\n",
              "    .colab-df-convert {\n",
              "      background-color: #E8F0FE;\n",
              "      border: none;\n",
              "      border-radius: 50%;\n",
              "      cursor: pointer;\n",
              "      display: none;\n",
              "      fill: #1967D2;\n",
              "      height: 32px;\n",
              "      padding: 0 0 0 0;\n",
              "      width: 32px;\n",
              "    }\n",
              "\n",
              "    .colab-df-convert:hover {\n",
              "      background-color: #E2EBFA;\n",
              "      box-shadow: 0px 1px 2px rgba(60, 64, 67, 0.3), 0px 1px 3px 1px rgba(60, 64, 67, 0.15);\n",
              "      fill: #174EA6;\n",
              "    }\n",
              "\n",
              "    [theme=dark] .colab-df-convert {\n",
              "      background-color: #3B4455;\n",
              "      fill: #D2E3FC;\n",
              "    }\n",
              "\n",
              "    [theme=dark] .colab-df-convert:hover {\n",
              "      background-color: #434B5C;\n",
              "      box-shadow: 0px 1px 3px 1px rgba(0, 0, 0, 0.15);\n",
              "      filter: drop-shadow(0px 1px 2px rgba(0, 0, 0, 0.3));\n",
              "      fill: #FFFFFF;\n",
              "    }\n",
              "  </style>\n",
              "\n",
              "      <script>\n",
              "        const buttonEl =\n",
              "          document.querySelector('#df-357c6821-1abd-4916-a2f0-f013e2df2901 button.colab-df-convert');\n",
              "        buttonEl.style.display =\n",
              "          google.colab.kernel.accessAllowed ? 'block' : 'none';\n",
              "\n",
              "        async function convertToInteractive(key) {\n",
              "          const element = document.querySelector('#df-357c6821-1abd-4916-a2f0-f013e2df2901');\n",
              "          const dataTable =\n",
              "            await google.colab.kernel.invokeFunction('convertToInteractive',\n",
              "                                                     [key], {});\n",
              "          if (!dataTable) return;\n",
              "\n",
              "          const docLinkHtml = 'Like what you see? Visit the ' +\n",
              "            '<a target=\"_blank\" href=https://colab.research.google.com/notebooks/data_table.ipynb>data table notebook</a>'\n",
              "            + ' to learn more about interactive tables.';\n",
              "          element.innerHTML = '';\n",
              "          dataTable['output_type'] = 'display_data';\n",
              "          await google.colab.output.renderOutput(dataTable, element);\n",
              "          const docLink = document.createElement('div');\n",
              "          docLink.innerHTML = docLinkHtml;\n",
              "          element.appendChild(docLink);\n",
              "        }\n",
              "      </script>\n",
              "    </div>\n",
              "  </div>\n",
              "  "
            ]
          },
          "metadata": {},
          "execution_count": 3
        }
      ]
    },
    {
      "cell_type": "code",
      "source": [
        "# df_train = df_train.sample(n=int(len(df_train)*0.2), random_state=45)"
      ],
      "metadata": {
        "id": "BloDUNmKF7UR"
      },
      "execution_count": null,
      "outputs": []
    },
    {
      "cell_type": "code",
      "source": [
        "df_train = df_train[['Текст','Эмоциональный окрас']]"
      ],
      "metadata": {
        "id": "CHdPiIzv2qu1"
      },
      "execution_count": null,
      "outputs": []
    },
    {
      "cell_type": "code",
      "source": [
        "df_train.groupby('Эмоциональный окрас').count()"
      ],
      "metadata": {
        "colab": {
          "base_uri": "https://localhost:8080/",
          "height": 261
        },
        "id": "26CQDbWB4waf",
        "outputId": "65cebe04-92a1-4004-df40-2b1fa24babfa"
      },
      "execution_count": null,
      "outputs": [
        {
          "output_type": "execute_result",
          "data": {
            "text/plain": [
              "                     Текст\n",
              "Эмоциональный окрас       \n",
              "Вежливость             652\n",
              "Негатив               3950\n",
              "Нейтральность        11811\n",
              "Неопределенность      1146\n",
              "Позитив               2539\n",
              "Юмор                  1399"
            ],
            "text/html": [
              "\n",
              "  <div id=\"df-d678d021-e60c-45df-93f7-1b15833f9769\">\n",
              "    <div class=\"colab-df-container\">\n",
              "      <div>\n",
              "<style scoped>\n",
              "    .dataframe tbody tr th:only-of-type {\n",
              "        vertical-align: middle;\n",
              "    }\n",
              "\n",
              "    .dataframe tbody tr th {\n",
              "        vertical-align: top;\n",
              "    }\n",
              "\n",
              "    .dataframe thead th {\n",
              "        text-align: right;\n",
              "    }\n",
              "</style>\n",
              "<table border=\"1\" class=\"dataframe\">\n",
              "  <thead>\n",
              "    <tr style=\"text-align: right;\">\n",
              "      <th></th>\n",
              "      <th>Текст</th>\n",
              "    </tr>\n",
              "    <tr>\n",
              "      <th>Эмоциональный окрас</th>\n",
              "      <th></th>\n",
              "    </tr>\n",
              "  </thead>\n",
              "  <tbody>\n",
              "    <tr>\n",
              "      <th>Вежливость</th>\n",
              "      <td>652</td>\n",
              "    </tr>\n",
              "    <tr>\n",
              "      <th>Негатив</th>\n",
              "      <td>3950</td>\n",
              "    </tr>\n",
              "    <tr>\n",
              "      <th>Нейтральность</th>\n",
              "      <td>11811</td>\n",
              "    </tr>\n",
              "    <tr>\n",
              "      <th>Неопределенность</th>\n",
              "      <td>1146</td>\n",
              "    </tr>\n",
              "    <tr>\n",
              "      <th>Позитив</th>\n",
              "      <td>2539</td>\n",
              "    </tr>\n",
              "    <tr>\n",
              "      <th>Юмор</th>\n",
              "      <td>1399</td>\n",
              "    </tr>\n",
              "  </tbody>\n",
              "</table>\n",
              "</div>\n",
              "      <button class=\"colab-df-convert\" onclick=\"convertToInteractive('df-d678d021-e60c-45df-93f7-1b15833f9769')\"\n",
              "              title=\"Convert this dataframe to an interactive table.\"\n",
              "              style=\"display:none;\">\n",
              "        \n",
              "  <svg xmlns=\"http://www.w3.org/2000/svg\" height=\"24px\"viewBox=\"0 0 24 24\"\n",
              "       width=\"24px\">\n",
              "    <path d=\"M0 0h24v24H0V0z\" fill=\"none\"/>\n",
              "    <path d=\"M18.56 5.44l.94 2.06.94-2.06 2.06-.94-2.06-.94-.94-2.06-.94 2.06-2.06.94zm-11 1L8.5 8.5l.94-2.06 2.06-.94-2.06-.94L8.5 2.5l-.94 2.06-2.06.94zm10 10l.94 2.06.94-2.06 2.06-.94-2.06-.94-.94-2.06-.94 2.06-2.06.94z\"/><path d=\"M17.41 7.96l-1.37-1.37c-.4-.4-.92-.59-1.43-.59-.52 0-1.04.2-1.43.59L10.3 9.45l-7.72 7.72c-.78.78-.78 2.05 0 2.83L4 21.41c.39.39.9.59 1.41.59.51 0 1.02-.2 1.41-.59l7.78-7.78 2.81-2.81c.8-.78.8-2.07 0-2.86zM5.41 20L4 18.59l7.72-7.72 1.47 1.35L5.41 20z\"/>\n",
              "  </svg>\n",
              "      </button>\n",
              "      \n",
              "  <style>\n",
              "    .colab-df-container {\n",
              "      display:flex;\n",
              "      flex-wrap:wrap;\n",
              "      gap: 12px;\n",
              "    }\n",
              "\n",
              "    .colab-df-convert {\n",
              "      background-color: #E8F0FE;\n",
              "      border: none;\n",
              "      border-radius: 50%;\n",
              "      cursor: pointer;\n",
              "      display: none;\n",
              "      fill: #1967D2;\n",
              "      height: 32px;\n",
              "      padding: 0 0 0 0;\n",
              "      width: 32px;\n",
              "    }\n",
              "\n",
              "    .colab-df-convert:hover {\n",
              "      background-color: #E2EBFA;\n",
              "      box-shadow: 0px 1px 2px rgba(60, 64, 67, 0.3), 0px 1px 3px 1px rgba(60, 64, 67, 0.15);\n",
              "      fill: #174EA6;\n",
              "    }\n",
              "\n",
              "    [theme=dark] .colab-df-convert {\n",
              "      background-color: #3B4455;\n",
              "      fill: #D2E3FC;\n",
              "    }\n",
              "\n",
              "    [theme=dark] .colab-df-convert:hover {\n",
              "      background-color: #434B5C;\n",
              "      box-shadow: 0px 1px 3px 1px rgba(0, 0, 0, 0.15);\n",
              "      filter: drop-shadow(0px 1px 2px rgba(0, 0, 0, 0.3));\n",
              "      fill: #FFFFFF;\n",
              "    }\n",
              "  </style>\n",
              "\n",
              "      <script>\n",
              "        const buttonEl =\n",
              "          document.querySelector('#df-d678d021-e60c-45df-93f7-1b15833f9769 button.colab-df-convert');\n",
              "        buttonEl.style.display =\n",
              "          google.colab.kernel.accessAllowed ? 'block' : 'none';\n",
              "\n",
              "        async function convertToInteractive(key) {\n",
              "          const element = document.querySelector('#df-d678d021-e60c-45df-93f7-1b15833f9769');\n",
              "          const dataTable =\n",
              "            await google.colab.kernel.invokeFunction('convertToInteractive',\n",
              "                                                     [key], {});\n",
              "          if (!dataTable) return;\n",
              "\n",
              "          const docLinkHtml = 'Like what you see? Visit the ' +\n",
              "            '<a target=\"_blank\" href=https://colab.research.google.com/notebooks/data_table.ipynb>data table notebook</a>'\n",
              "            + ' to learn more about interactive tables.';\n",
              "          element.innerHTML = '';\n",
              "          dataTable['output_type'] = 'display_data';\n",
              "          await google.colab.output.renderOutput(dataTable, element);\n",
              "          const docLink = document.createElement('div');\n",
              "          docLink.innerHTML = docLinkHtml;\n",
              "          element.appendChild(docLink);\n",
              "        }\n",
              "      </script>\n",
              "    </div>\n",
              "  </div>\n",
              "  "
            ]
          },
          "metadata": {},
          "execution_count": 6
        }
      ]
    },
    {
      "cell_type": "code",
      "source": [
        "df_train.drop(df_train[df_train['Эмоциональный окрас']=='Неопределенность'].index, inplace=True)"
      ],
      "metadata": {
        "id": "Zx9Ezcy4JOgG",
        "colab": {
          "base_uri": "https://localhost:8080/"
        },
        "outputId": "82b37de7-cdb2-4579-bf30-9573dd71a6bc"
      },
      "execution_count": null,
      "outputs": [
        {
          "output_type": "stream",
          "name": "stderr",
          "text": [
            "/usr/local/lib/python3.7/dist-packages/pandas/core/frame.py:4913: SettingWithCopyWarning: \n",
            "A value is trying to be set on a copy of a slice from a DataFrame\n",
            "\n",
            "See the caveats in the documentation: https://pandas.pydata.org/pandas-docs/stable/user_guide/indexing.html#returning-a-view-versus-a-copy\n",
            "  errors=errors,\n"
          ]
        }
      ]
    },
    {
      "cell_type": "code",
      "source": [
        "from collections import Counter\n",
        "\n",
        "def is_letter(s):\n",
        "    return s.isalpha()\n",
        "\n",
        "def is_smile(s):\n",
        "    return ord(s) > 9000\n",
        "\n",
        "c = Counter()\n",
        "\n",
        "for idx, row in df_train.iterrows():\n",
        "    c.update(row['Текст'])"
      ],
      "metadata": {
        "id": "kRASJpEhvoc2"
      },
      "execution_count": null,
      "outputs": []
    },
    {
      "cell_type": "code",
      "source": [
        "c.most_common()"
      ],
      "metadata": {
        "colab": {
          "base_uri": "https://localhost:8080/"
        },
        "id": "-1mxNijVNxHc",
        "outputId": "b4cb2bd4-4e82-4682-e1fb-edf34e881ba6"
      },
      "execution_count": null,
      "outputs": [
        {
          "output_type": "execute_result",
          "data": {
            "text/plain": [
              "[(' ', 291905),\n",
              " ('о', 159460),\n",
              " ('е', 125686),\n",
              " ('а', 125488),\n",
              " ('т', 107675),\n",
              " ('и', 102083),\n",
              " ('н', 95338),\n",
              " ('с', 73063),\n",
              " ('р', 67124),\n",
              " ('л', 60515),\n",
              " ('к', 59724),\n",
              " ('в', 55787),\n",
              " ('п', 46132),\n",
              " ('м', 44327),\n",
              " ('д', 44300),\n",
              " ('у', 43173),\n",
              " ('ь', 30789),\n",
              " ('б', 29326),\n",
              " ('ы', 27358),\n",
              " ('я', 26223),\n",
              " ('.', 23453),\n",
              " ('ч', 23167),\n",
              " ('з', 22076),\n",
              " (',', 22069),\n",
              " ('г', 20270),\n",
              " ('й', 17390),\n",
              " ('ж', 15524),\n",
              " ('х', 10962),\n",
              " ('ш', 10552),\n",
              " ('ю', 9802),\n",
              " ('ф', 9150),\n",
              " ('0', 7798),\n",
              " ('\\n', 7714),\n",
              " ('t', 7197),\n",
              " ('/', 7144),\n",
              " ('?', 6777),\n",
              " ('э', 5956),\n",
              " ('-', 5880),\n",
              " ('ц', 5773),\n",
              " ('s', 5141),\n",
              " ('o', 5036),\n",
              " ('П', 5034),\n",
              " ('1', 4639),\n",
              " ('i', 4541),\n",
              " (')', 4529),\n",
              " ('f', 4350),\n",
              " ('!', 4334),\n",
              " ('w', 4298),\n",
              " ('щ', 4251),\n",
              " ('e', 4203),\n",
              " ('Т', 4122),\n",
              " ('r', 4067),\n",
              " ('2', 3970),\n",
              " ('n', 3874),\n",
              " ('Н', 3801),\n",
              " ('l', 3800),\n",
              " ('a', 3746),\n",
              " (':', 3657),\n",
              " ('С', 3607),\n",
              " ('В', 3488),\n",
              " ('А', 3464),\n",
              " ('ё', 3384),\n",
              " ('u', 3131),\n",
              " ('К', 3066),\n",
              " ('5', 3063),\n",
              " ('О', 2938),\n",
              " ('p', 2917),\n",
              " ('k', 2796),\n",
              " ('h', 2619),\n",
              " ('c', 2394),\n",
              " ('3', 2369),\n",
              " ('\"', 2362),\n",
              " ('И', 2296),\n",
              " ('m', 2056),\n",
              " ('Б', 1982),\n",
              " ('Д', 1949),\n",
              " ('d', 1892),\n",
              " ('М', 1864),\n",
              " ('4', 1843),\n",
              " ('(', 1743),\n",
              " ('6', 1691),\n",
              " ('Е', 1655),\n",
              " ('9', 1564),\n",
              " ('У', 1542),\n",
              " ('7', 1515),\n",
              " ('Р', 1454),\n",
              " ('З', 1408),\n",
              " ('b', 1382),\n",
              " ('%', 1332),\n",
              " ('8', 1279),\n",
              " ('Я', 1094),\n",
              " ('y', 1047),\n",
              " ('v', 1025),\n",
              " ('g', 983),\n",
              " ('Л', 951),\n",
              " ('P', 905),\n",
              " ('Ч', 896),\n",
              " ('T', 852),\n",
              " ('S', 819),\n",
              " ('A', 805),\n",
              " ('Э', 726),\n",
              " ('Г', 716),\n",
              " ('Х', 708),\n",
              " ('O', 699),\n",
              " ('I', 697),\n",
              " ('+', 662),\n",
              " ('R', 659),\n",
              " ('D', 657),\n",
              " ('👍', 625),\n",
              " ('G', 571),\n",
              " ('B', 567),\n",
              " ('x', 528),\n",
              " ('C', 526),\n",
              " ('M', 522),\n",
              " ('E', 521),\n",
              " ('F', 502),\n",
              " ('₽', 479),\n",
              " ('N', 476),\n",
              " ('L', 467),\n",
              " ('_', 442),\n",
              " ('🔘', 420),\n",
              " ('W', 413),\n",
              " ('Q', 403),\n",
              " ('j', 389),\n",
              " ('q', 387),\n",
              " ('K', 373),\n",
              " ('H', 369),\n",
              " ('U', 366),\n",
              " ('[', 365),\n",
              " (']', 362),\n",
              " ('z', 359),\n",
              " ('Ж', 359),\n",
              " ('=', 354),\n",
              " ('J', 349),\n",
              " ('🤣', 328),\n",
              " ('V', 327),\n",
              " ('Ф', 318),\n",
              " ('|', 298),\n",
              " ('Y', 289),\n",
              " ('X', 283),\n",
              " ('ъ', 277),\n",
              " ('»', 264),\n",
              " ('«', 254),\n",
              " ('🏻', 242),\n",
              " ('😂', 239),\n",
              " ('Z', 230),\n",
              " ('👇', 223),\n",
              " ('*', 219),\n",
              " ('️', 188),\n",
              " ('Ш', 185),\n",
              " ('—', 173),\n",
              " ('Ц', 169),\n",
              " ('🤔', 164),\n",
              " ('Ь', 164),\n",
              " ('#', 163),\n",
              " ('\\xa0', 163),\n",
              " ('…', 162),\n",
              " ('😊', 159),\n",
              " (';', 135),\n",
              " ('\\u200d', 126),\n",
              " ('Ы', 119),\n",
              " ('>', 113),\n",
              " ('😁', 108),\n",
              " ('🔥', 106),\n",
              " ('Й', 98),\n",
              " ('😄', 97),\n",
              " ('😉', 96),\n",
              " (\"'\", 94),\n",
              " ('♂', 93),\n",
              " ('❤', 89),\n",
              " ('&', 83),\n",
              " ('$', 81),\n",
              " ('\\\\', 79),\n",
              " ('Ю', 78),\n",
              " ('🤦', 74),\n",
              " ('😆', 73),\n",
              " ('😅', 70),\n",
              " ('😡', 70),\n",
              " ('😃', 68),\n",
              " ('😎', 68),\n",
              " ('🤗', 66),\n",
              " ('@', 64),\n",
              " ('😍', 60),\n",
              " ('–', 58),\n",
              " ('🙂', 57),\n",
              " ('\\u200b', 55),\n",
              " ('👏', 53),\n",
              " ('🤷', 49),\n",
              " ('😀', 43),\n",
              " ('{', 43),\n",
              " ('}', 43),\n",
              " ('👎', 42),\n",
              " ('💪', 41),\n",
              " ('👌', 40),\n",
              " ('☺', 40),\n",
              " ('❗', 39),\n",
              " ('♀', 37),\n",
              " ('✌', 36),\n",
              " ('😭', 34),\n",
              " ('Ё', 32),\n",
              " ('Щ', 32),\n",
              " ('😏', 32),\n",
              " ('💛', 28),\n",
              " ('<', 28),\n",
              " ('ë', 28),\n",
              " ('🙄', 27),\n",
              " ('😔', 27),\n",
              " ('🎄', 27),\n",
              " ('🙏', 27),\n",
              " ('😢', 26),\n",
              " ('🙌', 26),\n",
              " ('💳', 26),\n",
              " ('¯', 24),\n",
              " ('🥳', 23),\n",
              " ('😳', 23),\n",
              " ('🙃', 22),\n",
              " ('^', 21),\n",
              " ('🙈', 20),\n",
              " ('🎁', 20),\n",
              " ('🎉', 19),\n",
              " ('🤝', 19),\n",
              " ('👀', 18),\n",
              " ('👆', 18),\n",
              " ('😑', 17),\n",
              " ('😨', 17),\n",
              " ('⏩', 17),\n",
              " ('⚠', 17),\n",
              " ('😐', 16),\n",
              " ('🥺', 16),\n",
              " ('✋', 16),\n",
              " ('🤡', 16),\n",
              " ('✓', 16),\n",
              " ('😜', 15),\n",
              " ('🌚', 15),\n",
              " ('🇷', 15),\n",
              " ('🇺', 15),\n",
              " ('😒', 15),\n",
              " ('🤪', 14),\n",
              " ('☝', 14),\n",
              " ('😇', 14),\n",
              " ('•', 14),\n",
              " ('😱', 13),\n",
              " ('😬', 13),\n",
              " ('😹', 13),\n",
              " ('🤩', 13),\n",
              " ('🌟', 13),\n",
              " ('💥', 13),\n",
              " ('👉', 13),\n",
              " ('🤑', 13),\n",
              " ('☹', 12),\n",
              " ('ツ', 12),\n",
              " ('🧐', 11),\n",
              " ('😕', 11),\n",
              " ('🎟', 11),\n",
              " ('”', 11),\n",
              " ('🎊', 10),\n",
              " ('💩', 10),\n",
              " ('🤬', 10),\n",
              " ('😌', 10),\n",
              " ('⚡', 10),\n",
              " ('🖤', 10),\n",
              " ('✨', 10),\n",
              " ('😋', 10),\n",
              " ('🎫', 10),\n",
              " ('✅', 10),\n",
              " ('“', 10),\n",
              " ('🌲', 9),\n",
              " ('🤢', 9),\n",
              " ('🏼', 9),\n",
              " ('🤘', 9),\n",
              " ('✊', 9),\n",
              " ('🥰', 9),\n",
              " ('~', 9),\n",
              " ('🚀', 9),\n",
              " ('🚘', 9),\n",
              " ('🤓', 8),\n",
              " ('😻', 8),\n",
              " ('№', 8),\n",
              " ('❄', 8),\n",
              " ('😈', 8),\n",
              " ('😞', 8),\n",
              " ('🤭', 8),\n",
              " ('🏎', 8),\n",
              " ('🍾', 8),\n",
              " ('🗿', 8),\n",
              " ('\\U0001f972', 7),\n",
              " ('×', 7),\n",
              " ('😸', 7),\n",
              " ('’', 7),\n",
              " ('🌹', 7),\n",
              " ('📺', 7),\n",
              " ('🤧', 7),\n",
              " ('\\U0001f7e1', 7),\n",
              " ('😯', 6),\n",
              " ('😘', 6),\n",
              " ('💕', 6),\n",
              " ('🎮', 6),\n",
              " ('👤', 6),\n",
              " ('⛄', 5),\n",
              " ('🍀', 5),\n",
              " ('°', 5),\n",
              " ('🤨', 5),\n",
              " ('😰', 5),\n",
              " ('💸', 5),\n",
              " ('●', 5),\n",
              " ('⏰', 5),\n",
              " ('€', 5),\n",
              " ('📍', 5),\n",
              " ('☀', 5),\n",
              " ('🤮', 5),\n",
              " ('‼', 5),\n",
              " ('🤤', 5),\n",
              " ('🌝', 5),\n",
              " ('🔋', 5),\n",
              " ('💲', 5),\n",
              " ('✈', 5),\n",
              " ('→', 4),\n",
              " ('📈', 4),\n",
              " ('🌸', 4),\n",
              " ('🥂', 4),\n",
              " ('😲', 4),\n",
              " ('👻', 4),\n",
              " ('😠', 4),\n",
              " ('💃', 4),\n",
              " ('💰', 4),\n",
              " ('🤞', 4),\n",
              " ('🌷', 4),\n",
              " ('😤', 4),\n",
              " ('😥', 4),\n",
              " ('😩', 4),\n",
              " ('`', 4),\n",
              " ('💁', 4),\n",
              " ('🔝', 4),\n",
              " ('👞', 4),\n",
              " ('📋', 4),\n",
              " ('ﾉ', 4),\n",
              " ('ﾟ', 4),\n",
              " ('℅', 4),\n",
              " ('💫', 4),\n",
              " ('💣', 4),\n",
              " ('⭐', 4),\n",
              " ('➤', 4),\n",
              " ('📱', 4),\n",
              " ('✔', 4),\n",
              " ('🇨', 4),\n",
              " ('🇳', 4),\n",
              " ('👹', 4),\n",
              " ('🙋', 3),\n",
              " ('😺', 3),\n",
              " ('😝', 3),\n",
              " ('🐅', 3),\n",
              " ('👫', 3),\n",
              " ('🐯', 3),\n",
              " ('😪', 3),\n",
              " ('➡', 3),\n",
              " ('🚗', 3),\n",
              " ('😼', 3),\n",
              " ('🏿', 3),\n",
              " ('📌', 3),\n",
              " ('👋', 3),\n",
              " ('£', 3),\n",
              " ('🔴', 3),\n",
              " ('💂', 3),\n",
              " ('😴', 3),\n",
              " ('̆', 3),\n",
              " ('́', 3),\n",
              " ('🌺', 3),\n",
              " ('⚫', 3),\n",
              " ('🙀', 3),\n",
              " ('🤖', 3),\n",
              " ('💔', 3),\n",
              " ('🥴', 2),\n",
              " ('👑', 2),\n",
              " ('🙉', 2),\n",
              " ('🙊', 2),\n",
              " ('🎅', 2),\n",
              " ('🦊', 2),\n",
              " ('🐾', 2),\n",
              " ('🎇', 2),\n",
              " ('💙', 2),\n",
              " ('😣', 2),\n",
              " ('🎀', 2),\n",
              " ('💵', 2),\n",
              " ('🍷', 2),\n",
              " ('\\U0001f971', 2),\n",
              " ('🐍', 2),\n",
              " ('💯', 2),\n",
              " ('💜', 2),\n",
              " ('👊', 2),\n",
              " ('📊', 2),\n",
              " ('🎈', 2),\n",
              " ('🗣', 2),\n",
              " ('📖', 2),\n",
              " ('👈', 2),\n",
              " ('😧', 2),\n",
              " ('🧚', 2),\n",
              " ('🖖', 2),\n",
              " ('🌍', 2),\n",
              " ('😵', 2),\n",
              " ('🤫', 2),\n",
              " ('🤥', 2),\n",
              " ('🙇', 2),\n",
              " ('‘', 2),\n",
              " ('ʕ', 2),\n",
              " ('´', 2),\n",
              " ('ᴥ', 2),\n",
              " ('̥', 2),\n",
              " ('ʔ', 2),\n",
              " ('💡', 2),\n",
              " ('🙁', 2),\n",
              " ('ಥ', 2),\n",
              " ('Ъ', 2),\n",
              " ('📑', 2),\n",
              " ('🤠', 2),\n",
              " ('🏆', 2),\n",
              " ('🏦', 2),\n",
              " ('🐒', 2),\n",
              " ('🍁', 2),\n",
              " ('😖', 2),\n",
              " ('🍗', 2),\n",
              " ('🐈', 2),\n",
              " ('♥', 2),\n",
              " ('©', 2),\n",
              " ('💻', 2),\n",
              " ('\\U0001f90c', 2),\n",
              " ('🦁', 2),\n",
              " ('🧛', 2),\n",
              " ('·', 2),\n",
              " ('−', 1),\n",
              " ('¥', 1),\n",
              " ('📝', 1),\n",
              " ('👭', 1),\n",
              " ('👬', 1),\n",
              " ('🖐', 1),\n",
              " ('⭕', 1),\n",
              " ('💶', 1),\n",
              " ('🐙', 1),\n",
              " ('👘', 1),\n",
              " ('🍸', 1),\n",
              " ('🎆', 1),\n",
              " ('←', 1),\n",
              " ('💾', 1),\n",
              " ('🎧', 1),\n",
              " ('🚕', 1),\n",
              " ('🚖', 1),\n",
              " ('🕷', 1),\n",
              " ('ü', 1),\n",
              " ('🇧', 1),\n",
              " ('🇾', 1),\n",
              " ('\\U0001f978', 1),\n",
              " ('⚽', 1),\n",
              " ('🕰', 1),\n",
              " ('̈', 1),\n",
              " ('🖋', 1),\n",
              " ('😾', 1),\n",
              " ('⃣', 1),\n",
              " ('❎', 1),\n",
              " ('🍿', 1),\n",
              " ('🔪', 1),\n",
              " ('🥇', 1),\n",
              " ('😓', 1),\n",
              " ('🤯', 1),\n",
              " ('：', 1),\n",
              " ('🤕', 1),\n",
              " ('🐁', 1),\n",
              " ('👣', 1),\n",
              " ('＼', 1),\n",
              " ('≧', 1),\n",
              " ('▽', 1),\n",
              " ('≦', 1),\n",
              " ('／', 1),\n",
              " ('🤙', 1),\n",
              " ('🙅', 1),\n",
              " ('😚', 1),\n",
              " ('\\U0001f90d', 1),\n",
              " ('😶', 1),\n",
              " ('🐳', 1),\n",
              " ('🏙', 1),\n",
              " ('⁉', 1),\n",
              " ('📣', 1),\n",
              " ('🍋', 1),\n",
              " ('↑', 1),\n",
              " ('👿', 1),\n",
              " ('🎂', 1),\n",
              " ('‿', 1),\n",
              " ('🥵', 1),\n",
              " ('王', 1),\n",
              " ('智', 1),\n",
              " ('辉', 1),\n",
              " ('🤜', 1),\n",
              " ('🤛', 1),\n",
              " ('π', 1),\n",
              " ('🍌', 1),\n",
              " ('🌈', 1),\n",
              " ('😦', 1),\n",
              " ('🎃', 1),\n",
              " ('😿', 1),\n",
              " ('🤟', 1),\n",
              " ('😷', 1),\n",
              " ('🏾', 1),\n",
              " ('（', 1),\n",
              " ('）', 1),\n",
              " ('🔞', 1),\n",
              " ('Ć', 1),\n",
              " ('🍺', 1),\n",
              " ('🧾', 1),\n",
              " ('⬇', 1),\n",
              " ('🔔', 1),\n",
              " ('言', 1),\n",
              " ('語', 1),\n",
              " ('は', 1),\n",
              " ('良', 1),\n",
              " ('い', 1),\n",
              " ('で', 1),\n",
              " ('す', 1),\n",
              " ('🙆', 1),\n",
              " ('🐕', 1),\n",
              " ('💋', 1),\n",
              " ('🛰', 1),\n",
              " ('🍔', 1),\n",
              " ('🏁', 1),\n",
              " ('🎨', 1),\n",
              " ('👖', 1),\n",
              " ('👔', 1),\n",
              " ('🕶', 1),\n",
              " ('🤳', 1),\n",
              " ('🛡', 1),\n",
              " ('👩', 1),\n",
              " ('🛍', 1),\n",
              " ('👨', 1),\n",
              " ('🧜', 1),\n",
              " ('💓', 1),\n",
              " ('？', 1),\n",
              " ('🎤', 1),\n",
              " ('🚫', 1),\n",
              " ('🧲', 1),\n",
              " ('🔟', 1),\n",
              " ('📽', 1),\n",
              " ('▶', 1),\n",
              " ('„', 1),\n",
              " ('🌀', 1),\n",
              " ('😙', 1),\n",
              " ('🎓', 1),\n",
              " ('ἀ', 1),\n",
              " ('ν', 1),\n",
              " ('ή', 1),\n",
              " ('ρ', 1),\n",
              " ('🐏', 1),\n",
              " ('🌱', 1),\n",
              " ('❔', 1),\n",
              " ('🍃', 1),\n",
              " ('🌻', 1),\n",
              " ('📉', 1),\n",
              " ('🧡', 1),\n",
              " ('🅰', 1),\n",
              " ('🍏', 1),\n",
              " ('💆', 1),\n",
              " ('💖', 1),\n",
              " ('🐢', 1),\n",
              " ('😟', 1)]"
            ]
          },
          "metadata": {},
          "execution_count": 9
        }
      ]
    },
    {
      "cell_type": "code",
      "source": [
        "smiles_to_save = []\n",
        "\n",
        "for k ,v in c.most_common():\n",
        "    if v < 20 or not is_smile(k):\n",
        "        continue\n",
        "    # print(k, is_letter(k), is_smile(k), v)\n",
        "    smiles_to_save.append(k)\n",
        "\n",
        "rstring_smiles_to_save = f\"({'|'.join(smiles_to_save)})\"\n",
        "rstring_smiles_to_save"
      ],
      "metadata": {
        "colab": {
          "base_uri": "https://localhost:8080/",
          "height": 34
        },
        "id": "S2cs6UdHvoV5",
        "outputId": "116bf044-afb8-4602-8189-c24cad0facca"
      },
      "execution_count": null,
      "outputs": [
        {
          "output_type": "execute_result",
          "data": {
            "text/plain": [
              "'(👍|🔘|🤣|🏻|😂|👇|️|🤔|😊|😁|🔥|😄|😉|♂|❤|🤦|😆|😅|😡|😃|😎|🤗|😍|🙂|👏|🤷|😀|👎|💪|👌|☺|❗|♀|✌|😭|😏|💛|🙄|😔|🎄|🙏|😢|🙌|💳|🥳|😳|🙃|🙈|🎁)'"
            ],
            "application/vnd.google.colaboratory.intrinsic+json": {
              "type": "string"
            }
          },
          "metadata": {},
          "execution_count": 10
        }
      ]
    },
    {
      "cell_type": "code",
      "source": [
        "df_train['Текст'].iloc[25]"
      ],
      "metadata": {
        "colab": {
          "base_uri": "https://localhost:8080/",
          "height": 34
        },
        "id": "3mhrmBDRGJv7",
        "outputId": "19ae45a9-b14a-465f-de4c-938ff9c50f21"
      },
      "execution_count": null,
      "outputs": [
        {
          "output_type": "execute_result",
          "data": {
            "text/plain": [
              "'Как строки с числами работают🤣🤣'"
            ],
            "application/vnd.google.colaboratory.intrinsic+json": {
              "type": "string"
            }
          },
          "metadata": {},
          "execution_count": 11
        }
      ]
    },
    {
      "cell_type": "code",
      "source": [
        "import re\n",
        "\n",
        "def preprocess_text(text):\n",
        "    text = text.lower().replace(\"ё\", \"е\")\n",
        "    text = re.sub('((www\\.[^\\s]+)|(https?://[^\\s]+))', 'URL', text)\n",
        "    text = re.sub('@[^\\s]+', 'USER', text)\n",
        "    text = re.sub(f'[^(a-zA-Zа-яА-Я1-9{rstring_smiles_to_save})]+', ' ', text)\n",
        "    text = re.sub(' +', ' ', text)\n",
        "    return text.strip()\n",
        "\n",
        "\n",
        "def add_spaces_for_smiles(text):\n",
        "    text = list(text)\n",
        "    for i, t in enumerate(text):\n",
        "        if is_smile(t):\n",
        "            text[i] = ' ' + t + ' '\n",
        "    return re.sub(' +', ' ', ''.join(text))\n",
        "\n",
        "df_train['Текст'] = df_train['Текст'].apply(add_spaces_for_smiles)\n",
        "df_train['Текст'] = df_train['Текст'].apply(preprocess_text)"
      ],
      "metadata": {
        "id": "aMUrO0ql9qMl",
        "colab": {
          "base_uri": "https://localhost:8080/"
        },
        "outputId": "0edb4751-aa6c-4b58-def2-9d15b8dfcb67"
      },
      "execution_count": null,
      "outputs": [
        {
          "output_type": "stream",
          "name": "stderr",
          "text": [
            "/usr/local/lib/python3.7/dist-packages/ipykernel_launcher.py:19: SettingWithCopyWarning: \n",
            "A value is trying to be set on a copy of a slice from a DataFrame.\n",
            "Try using .loc[row_indexer,col_indexer] = value instead\n",
            "\n",
            "See the caveats in the documentation: https://pandas.pydata.org/pandas-docs/stable/user_guide/indexing.html#returning-a-view-versus-a-copy\n",
            "/usr/local/lib/python3.7/dist-packages/ipykernel_launcher.py:20: SettingWithCopyWarning: \n",
            "A value is trying to be set on a copy of a slice from a DataFrame.\n",
            "Try using .loc[row_indexer,col_indexer] = value instead\n",
            "\n",
            "See the caveats in the documentation: https://pandas.pydata.org/pandas-docs/stable/user_guide/indexing.html#returning-a-view-versus-a-copy\n"
          ]
        }
      ]
    },
    {
      "cell_type": "code",
      "source": [
        "preprocess_text(df_train['Текст'].iloc[25])"
      ],
      "metadata": {
        "colab": {
          "base_uri": "https://localhost:8080/",
          "height": 34
        },
        "id": "5FJO05cn-bXX",
        "outputId": "82045427-015f-48b8-80eb-a8bbc6a0b81e"
      },
      "execution_count": null,
      "outputs": [
        {
          "output_type": "execute_result",
          "data": {
            "text/plain": [
              "'как строки с числами работают 🤣 🤣'"
            ],
            "application/vnd.google.colaboratory.intrinsic+json": {
              "type": "string"
            }
          },
          "metadata": {},
          "execution_count": 13
        }
      ]
    },
    {
      "cell_type": "code",
      "source": [
        "# from nltk.tokenize import word_tokenize"
      ],
      "metadata": {
        "id": "yj-f0VcD-bcb"
      },
      "execution_count": null,
      "outputs": []
    },
    {
      "cell_type": "code",
      "source": [
        "# !sudo pip install nltk\n",
        "# nltk.download('all')"
      ],
      "metadata": {
        "id": "u_4webN0AWYX"
      },
      "execution_count": null,
      "outputs": []
    },
    {
      "cell_type": "code",
      "source": [
        "# word_tokenize(df_train['Текст'].iloc[25])"
      ],
      "metadata": {
        "id": "odkwY1Hj-bgT"
      },
      "execution_count": null,
      "outputs": []
    },
    {
      "cell_type": "code",
      "source": [
        "#удаляем стоп-слова\n",
        "def stopwords_of_column(s):\n",
        "    if len(s.split(' ')) == 1:\n",
        "        return s\n",
        "    return ' '.join([w for w in s.split(' ') if w not in stopwords.words('russian')])"
      ],
      "metadata": {
        "id": "kDrkkOl9IijT"
      },
      "execution_count": null,
      "outputs": []
    },
    {
      "cell_type": "code",
      "source": [
        "stopwords_of_column(df_train['Текст'].iloc[25])"
      ],
      "metadata": {
        "colab": {
          "base_uri": "https://localhost:8080/",
          "height": 34
        },
        "id": "jZYxcnFkIzdU",
        "outputId": "c707d978-b525-4e8d-bd3a-43648ec43589"
      },
      "execution_count": null,
      "outputs": [
        {
          "output_type": "execute_result",
          "data": {
            "text/plain": [
              "'строки числами работают 🤣 🤣'"
            ],
            "application/vnd.google.colaboratory.intrinsic+json": {
              "type": "string"
            }
          },
          "metadata": {},
          "execution_count": 18
        }
      ]
    },
    {
      "cell_type": "code",
      "source": [
        "df_train['Текст']= df_train.apply(lambda x: stopwords_of_column(x['Текст']), axis=1)"
      ],
      "metadata": {
        "id": "BSLDK8VLIit1",
        "colab": {
          "base_uri": "https://localhost:8080/"
        },
        "outputId": "32a12ac8-ea1c-4631-94a5-a19966c3e8e0"
      },
      "execution_count": null,
      "outputs": [
        {
          "output_type": "stream",
          "name": "stderr",
          "text": [
            "/usr/local/lib/python3.7/dist-packages/ipykernel_launcher.py:1: SettingWithCopyWarning: \n",
            "A value is trying to be set on a copy of a slice from a DataFrame.\n",
            "Try using .loc[row_indexer,col_indexer] = value instead\n",
            "\n",
            "See the caveats in the documentation: https://pandas.pydata.org/pandas-docs/stable/user_guide/indexing.html#returning-a-view-versus-a-copy\n",
            "  \"\"\"Entry point for launching an IPython kernel.\n"
          ]
        }
      ]
    },
    {
      "cell_type": "code",
      "source": [
        "from nltk.stem.snowball import SnowballStemmer"
      ],
      "metadata": {
        "id": "KmqfoiCxASiI"
      },
      "execution_count": null,
      "outputs": []
    },
    {
      "cell_type": "code",
      "source": [
        "#стеммизация\n",
        "def stem_words(arr_words, stemmer):\n",
        "    return ' '.join(map(stemmer.stem, arr_words.split(' ')))"
      ],
      "metadata": {
        "id": "Xb6X2ldbDTMw"
      },
      "execution_count": null,
      "outputs": []
    },
    {
      "cell_type": "code",
      "source": [
        "snow_stemmer = SnowballStemmer(language='russian')\n",
        "stem_words(df_train['Текст'].iloc[25], snow_stemmer)"
      ],
      "metadata": {
        "colab": {
          "base_uri": "https://localhost:8080/",
          "height": 34
        },
        "id": "DnVo1wnZDUxA",
        "outputId": "5a94c3f2-5c78-4f3d-b6be-e11a9747a4d5"
      },
      "execution_count": null,
      "outputs": [
        {
          "output_type": "execute_result",
          "data": {
            "text/plain": [
              "'строк числ работа 🤣 🤣'"
            ],
            "application/vnd.google.colaboratory.intrinsic+json": {
              "type": "string"
            }
          },
          "metadata": {},
          "execution_count": 22
        }
      ]
    },
    {
      "cell_type": "code",
      "source": [
        "df_train['Текст']= df_train.apply(lambda x: stem_words(x['Текст'], snow_stemmer), axis=1)"
      ],
      "metadata": {
        "id": "y5ra0vtJJDHx",
        "colab": {
          "base_uri": "https://localhost:8080/"
        },
        "outputId": "705d60ab-3165-43a5-b70a-dcb40a9b571e"
      },
      "execution_count": null,
      "outputs": [
        {
          "output_type": "stream",
          "name": "stderr",
          "text": [
            "/usr/local/lib/python3.7/dist-packages/ipykernel_launcher.py:1: SettingWithCopyWarning: \n",
            "A value is trying to be set on a copy of a slice from a DataFrame.\n",
            "Try using .loc[row_indexer,col_indexer] = value instead\n",
            "\n",
            "See the caveats in the documentation: https://pandas.pydata.org/pandas-docs/stable/user_guide/indexing.html#returning-a-view-versus-a-copy\n",
            "  \"\"\"Entry point for launching an IPython kernel.\n"
          ]
        }
      ]
    },
    {
      "cell_type": "code",
      "source": [
        "all_words = []\n",
        "for i in range(df_train.shape[0]):\n",
        "    for word in df_train['Текст'].iloc[i].split(' '):\n",
        "        all_words.append(word)\n",
        "\n",
        "all_words = list(set(all_words))\n",
        "# all_words_dict = {k:v for v, k in enumerate(all_words)}"
      ],
      "metadata": {
        "id": "meLAnleWJST3"
      },
      "execution_count": null,
      "outputs": []
    },
    {
      "cell_type": "code",
      "source": [
        "print('уникальных слов, смайлов, эмодзи:', len(all_words))"
      ],
      "metadata": {
        "colab": {
          "base_uri": "https://localhost:8080/"
        },
        "id": "zUZm0vNNJio-",
        "outputId": "fcb80c69-893e-40c7-cf6a-0337dff8d036"
      },
      "execution_count": null,
      "outputs": [
        {
          "output_type": "stream",
          "name": "stdout",
          "text": [
            "уникальных слов, смайлов, эмодзи: 23046\n"
          ]
        }
      ]
    },
    {
      "cell_type": "code",
      "source": [
        "df_train[51:59]"
      ],
      "metadata": {
        "colab": {
          "base_uri": "https://localhost:8080/",
          "height": 291
        },
        "id": "c6QYMRRjDQol",
        "outputId": "87b241f7-6adb-4e19-fca6-c60cfe11f64d"
      },
      "execution_count": null,
      "outputs": [
        {
          "output_type": "execute_result",
          "data": {
            "text/plain": [
              "                                                Текст Эмоциональный окрас\n",
              "53                               одн кодогенерац 😅 уб             Негатив\n",
              "54                                ростелек сраз минус       Нейтральность\n",
              "55  ваш успех отвеча ростелек ответ дожд освобод о...                Юмор\n",
              "56                                         звуч угроз       Нейтральность\n",
              "57  хех стажировк стро велик российск файерволл ля...                Юмор\n",
              "58                    отписа захотел так вброс спам (             Негатив\n",
              "59                                           заслужен             Позитив\n",
              "60         наступа нов год 🥳 больш молодц держа 👍 💪 ✌          Вежливость"
            ],
            "text/html": [
              "\n",
              "  <div id=\"df-a48ca3e0-25eb-4a6a-b09a-5d95bfce61bf\">\n",
              "    <div class=\"colab-df-container\">\n",
              "      <div>\n",
              "<style scoped>\n",
              "    .dataframe tbody tr th:only-of-type {\n",
              "        vertical-align: middle;\n",
              "    }\n",
              "\n",
              "    .dataframe tbody tr th {\n",
              "        vertical-align: top;\n",
              "    }\n",
              "\n",
              "    .dataframe thead th {\n",
              "        text-align: right;\n",
              "    }\n",
              "</style>\n",
              "<table border=\"1\" class=\"dataframe\">\n",
              "  <thead>\n",
              "    <tr style=\"text-align: right;\">\n",
              "      <th></th>\n",
              "      <th>Текст</th>\n",
              "      <th>Эмоциональный окрас</th>\n",
              "    </tr>\n",
              "  </thead>\n",
              "  <tbody>\n",
              "    <tr>\n",
              "      <th>53</th>\n",
              "      <td>одн кодогенерац 😅 уб</td>\n",
              "      <td>Негатив</td>\n",
              "    </tr>\n",
              "    <tr>\n",
              "      <th>54</th>\n",
              "      <td>ростелек сраз минус</td>\n",
              "      <td>Нейтральность</td>\n",
              "    </tr>\n",
              "    <tr>\n",
              "      <th>55</th>\n",
              "      <td>ваш успех отвеча ростелек ответ дожд освобод о...</td>\n",
              "      <td>Юмор</td>\n",
              "    </tr>\n",
              "    <tr>\n",
              "      <th>56</th>\n",
              "      <td>звуч угроз</td>\n",
              "      <td>Нейтральность</td>\n",
              "    </tr>\n",
              "    <tr>\n",
              "      <th>57</th>\n",
              "      <td>хех стажировк стро велик российск файерволл ля...</td>\n",
              "      <td>Юмор</td>\n",
              "    </tr>\n",
              "    <tr>\n",
              "      <th>58</th>\n",
              "      <td>отписа захотел так вброс спам (</td>\n",
              "      <td>Негатив</td>\n",
              "    </tr>\n",
              "    <tr>\n",
              "      <th>59</th>\n",
              "      <td>заслужен</td>\n",
              "      <td>Позитив</td>\n",
              "    </tr>\n",
              "    <tr>\n",
              "      <th>60</th>\n",
              "      <td>наступа нов год 🥳 больш молодц держа 👍 💪 ✌</td>\n",
              "      <td>Вежливость</td>\n",
              "    </tr>\n",
              "  </tbody>\n",
              "</table>\n",
              "</div>\n",
              "      <button class=\"colab-df-convert\" onclick=\"convertToInteractive('df-a48ca3e0-25eb-4a6a-b09a-5d95bfce61bf')\"\n",
              "              title=\"Convert this dataframe to an interactive table.\"\n",
              "              style=\"display:none;\">\n",
              "        \n",
              "  <svg xmlns=\"http://www.w3.org/2000/svg\" height=\"24px\"viewBox=\"0 0 24 24\"\n",
              "       width=\"24px\">\n",
              "    <path d=\"M0 0h24v24H0V0z\" fill=\"none\"/>\n",
              "    <path d=\"M18.56 5.44l.94 2.06.94-2.06 2.06-.94-2.06-.94-.94-2.06-.94 2.06-2.06.94zm-11 1L8.5 8.5l.94-2.06 2.06-.94-2.06-.94L8.5 2.5l-.94 2.06-2.06.94zm10 10l.94 2.06.94-2.06 2.06-.94-2.06-.94-.94-2.06-.94 2.06-2.06.94z\"/><path d=\"M17.41 7.96l-1.37-1.37c-.4-.4-.92-.59-1.43-.59-.52 0-1.04.2-1.43.59L10.3 9.45l-7.72 7.72c-.78.78-.78 2.05 0 2.83L4 21.41c.39.39.9.59 1.41.59.51 0 1.02-.2 1.41-.59l7.78-7.78 2.81-2.81c.8-.78.8-2.07 0-2.86zM5.41 20L4 18.59l7.72-7.72 1.47 1.35L5.41 20z\"/>\n",
              "  </svg>\n",
              "      </button>\n",
              "      \n",
              "  <style>\n",
              "    .colab-df-container {\n",
              "      display:flex;\n",
              "      flex-wrap:wrap;\n",
              "      gap: 12px;\n",
              "    }\n",
              "\n",
              "    .colab-df-convert {\n",
              "      background-color: #E8F0FE;\n",
              "      border: none;\n",
              "      border-radius: 50%;\n",
              "      cursor: pointer;\n",
              "      display: none;\n",
              "      fill: #1967D2;\n",
              "      height: 32px;\n",
              "      padding: 0 0 0 0;\n",
              "      width: 32px;\n",
              "    }\n",
              "\n",
              "    .colab-df-convert:hover {\n",
              "      background-color: #E2EBFA;\n",
              "      box-shadow: 0px 1px 2px rgba(60, 64, 67, 0.3), 0px 1px 3px 1px rgba(60, 64, 67, 0.15);\n",
              "      fill: #174EA6;\n",
              "    }\n",
              "\n",
              "    [theme=dark] .colab-df-convert {\n",
              "      background-color: #3B4455;\n",
              "      fill: #D2E3FC;\n",
              "    }\n",
              "\n",
              "    [theme=dark] .colab-df-convert:hover {\n",
              "      background-color: #434B5C;\n",
              "      box-shadow: 0px 1px 3px 1px rgba(0, 0, 0, 0.15);\n",
              "      filter: drop-shadow(0px 1px 2px rgba(0, 0, 0, 0.3));\n",
              "      fill: #FFFFFF;\n",
              "    }\n",
              "  </style>\n",
              "\n",
              "      <script>\n",
              "        const buttonEl =\n",
              "          document.querySelector('#df-a48ca3e0-25eb-4a6a-b09a-5d95bfce61bf button.colab-df-convert');\n",
              "        buttonEl.style.display =\n",
              "          google.colab.kernel.accessAllowed ? 'block' : 'none';\n",
              "\n",
              "        async function convertToInteractive(key) {\n",
              "          const element = document.querySelector('#df-a48ca3e0-25eb-4a6a-b09a-5d95bfce61bf');\n",
              "          const dataTable =\n",
              "            await google.colab.kernel.invokeFunction('convertToInteractive',\n",
              "                                                     [key], {});\n",
              "          if (!dataTable) return;\n",
              "\n",
              "          const docLinkHtml = 'Like what you see? Visit the ' +\n",
              "            '<a target=\"_blank\" href=https://colab.research.google.com/notebooks/data_table.ipynb>data table notebook</a>'\n",
              "            + ' to learn more about interactive tables.';\n",
              "          element.innerHTML = '';\n",
              "          dataTable['output_type'] = 'display_data';\n",
              "          await google.colab.output.renderOutput(dataTable, element);\n",
              "          const docLink = document.createElement('div');\n",
              "          docLink.innerHTML = docLinkHtml;\n",
              "          element.appendChild(docLink);\n",
              "        }\n",
              "      </script>\n",
              "    </div>\n",
              "  </div>\n",
              "  "
            ]
          },
          "metadata": {},
          "execution_count": 26
        }
      ]
    },
    {
      "cell_type": "code",
      "source": [
        "# s = ['как строки -   с числами работают 🤣 🤣 !']"
      ],
      "metadata": {
        "id": "0DJj0OBaltQM"
      },
      "execution_count": null,
      "outputs": []
    },
    {
      "cell_type": "code",
      "source": [
        "maxWordsCount = 30000\n",
        "tokenizer = tf.keras.preprocessing.text.Tokenizer(num_words=maxWordsCount, filters='!–\"—#$%&amp;()*+,-./:;<=>?@[\\\\]^_`{|}~\\t\\n\\r«»',\n",
        "                         lower=True, split=' ', char_level=False)\n",
        "tokenizer.fit_on_texts(list(df_train['Текст']))"
      ],
      "metadata": {
        "id": "fGSBFXUcbQYI"
      },
      "execution_count": null,
      "outputs": []
    },
    {
      "cell_type": "code",
      "source": [
        "df_train['Текст'].iloc[25]"
      ],
      "metadata": {
        "colab": {
          "base_uri": "https://localhost:8080/",
          "height": 34
        },
        "id": "RgpwjYSlJ8lB",
        "outputId": "6b2d955d-d320-4c4a-8961-5f179d0ff3fc"
      },
      "execution_count": null,
      "outputs": [
        {
          "output_type": "execute_result",
          "data": {
            "text/plain": [
              "'строк числ работа 🤣 🤣'"
            ],
            "application/vnd.google.colaboratory.intrinsic+json": {
              "type": "string"
            }
          },
          "metadata": {},
          "execution_count": 29
        }
      ]
    },
    {
      "cell_type": "code",
      "source": [
        "arr = tokenizer.texts_to_sequences([df_train['Текст'].iloc[25]])\n",
        "arr"
      ],
      "metadata": {
        "colab": {
          "base_uri": "https://localhost:8080/"
        },
        "id": "RwIoCP7vbtp8",
        "outputId": "ee934d51-ea6f-4897-ece1-c4188d45427d"
      },
      "execution_count": null,
      "outputs": [
        {
          "output_type": "execute_result",
          "data": {
            "text/plain": [
              "[[812, 243, 20, 71, 71]]"
            ]
          },
          "metadata": {},
          "execution_count": 30
        }
      ]
    },
    {
      "cell_type": "code",
      "source": [
        "tokenizer.sequences_to_texts(arr)"
      ],
      "metadata": {
        "colab": {
          "base_uri": "https://localhost:8080/"
        },
        "id": "10yPBhPMbw9V",
        "outputId": "b279c32b-58ab-47cb-d0a4-559111543c79"
      },
      "execution_count": null,
      "outputs": [
        {
          "output_type": "execute_result",
          "data": {
            "text/plain": [
              "['строк числ работа 🤣 🤣']"
            ]
          },
          "metadata": {},
          "execution_count": 31
        }
      ]
    },
    {
      "cell_type": "code",
      "source": [
        "data = tokenizer.texts_to_sequences(list(df_train['Текст']))"
      ],
      "metadata": {
        "id": "Xkodjm2p2UTT"
      },
      "execution_count": null,
      "outputs": []
    },
    {
      "cell_type": "code",
      "source": [
        "import matplotlib.pyplot as plt\n",
        "fig = plt.figure(figsize=(10,7))\n",
        "plt.hist([len(d) for d in data], bins=100)\n",
        "plt.yscale('log')\n",
        "plt.ylabel('кол-во комментариев \\n(log scale)', fontsize=14)\n",
        "plt.xlabel('длина комментария (кол-во слов)', fontsize=14)\n",
        "plt.grid()"
      ],
      "metadata": {
        "id": "lOKcFdPt2mr1",
        "colab": {
          "base_uri": "https://localhost:8080/",
          "height": 445
        },
        "outputId": "87a3d0b3-0db6-49bb-f374-0234f36ad3fc"
      },
      "execution_count": null,
      "outputs": [
        {
          "output_type": "display_data",
          "data": {
            "text/plain": [
              "<Figure size 720x504 with 1 Axes>"
            ],
            "image/png": "[encoded data removed]"
          },
          "metadata": {
            "needs_background": "light"
          }
        }
      ]
    },
    {
      "cell_type": "code",
      "source": [
        "max_text_len = 100\n",
        "data_pad = tf.keras.preprocessing.sequence.pad_sequences(data, maxlen=max_text_len,padding='post')\n",
        "print(data_pad)\n",
        "print(data_pad.shape)"
      ],
      "metadata": {
        "id": "HIS2wba3hSjA",
        "colab": {
          "base_uri": "https://localhost:8080/"
        },
        "outputId": "1f0e4082-f406-4844-a754-60cdbc59056c"
      },
      "execution_count": null,
      "outputs": [
        {
          "output_type": "stream",
          "name": "stdout",
          "text": [
            "[[3378  827   98 ...    0    0    0]\n",
            " [ 363  582  264 ...    0    0    0]\n",
            " [2484  915 2191 ...    0    0    0]\n",
            " ...\n",
            " [3073  814  442 ...    0    0    0]\n",
            " [ 242  292   89 ...    0    0    0]\n",
            " [1785  290   84 ...    0    0    0]]\n",
            "(20351, 100)\n"
          ]
        }
      ]
    },
    {
      "cell_type": "code",
      "source": [
        "data_pad[25]"
      ],
      "metadata": {
        "colab": {
          "base_uri": "https://localhost:8080/"
        },
        "id": "QwlJ3b2jHBcY",
        "outputId": "aaab1484-d505-46c4-86e9-33044b15dafe"
      },
      "execution_count": null,
      "outputs": [
        {
          "output_type": "execute_result",
          "data": {
            "text/plain": [
              "array([812, 243,  20,  71,  71,   0,   0,   0,   0,   0,   0,   0,   0,\n",
              "         0,   0,   0,   0,   0,   0,   0,   0,   0,   0,   0,   0,   0,\n",
              "         0,   0,   0,   0,   0,   0,   0,   0,   0,   0,   0,   0,   0,\n",
              "         0,   0,   0,   0,   0,   0,   0,   0,   0,   0,   0,   0,   0,\n",
              "         0,   0,   0,   0,   0,   0,   0,   0,   0,   0,   0,   0,   0,\n",
              "         0,   0,   0,   0,   0,   0,   0,   0,   0,   0,   0,   0,   0,\n",
              "         0,   0,   0,   0,   0,   0,   0,   0,   0,   0,   0,   0,   0,\n",
              "         0,   0,   0,   0,   0,   0,   0,   0,   0], dtype=int32)"
            ]
          },
          "metadata": {},
          "execution_count": 52
        }
      ]
    },
    {
      "cell_type": "code",
      "source": [
        "# class2id = {k:i for i, k in enumerate(df_train['Эмоциональный окрас'].unique())}"
      ],
      "metadata": {
        "id": "msCvLhph3FJ6"
      },
      "execution_count": null,
      "outputs": []
    },
    {
      "cell_type": "code",
      "source": [
        "df_test = pd.read_excel('тестовая выборка.xlsx',skiprows=1)#, sheet_name='Comments',skiprows=1)  "
      ],
      "metadata": {
        "id": "AY5iIpQtchd0"
      },
      "execution_count": null,
      "outputs": []
    },
    {
      "cell_type": "code",
      "source": [
        "df_test.head()"
      ],
      "metadata": {
        "id": "KcUH1vkndj3Q",
        "colab": {
          "base_uri": "https://localhost:8080/",
          "height": 610
        },
        "outputId": "3b3cdf29-b4e7-44e4-e50e-b28fe20ddd31"
      },
      "execution_count": null,
      "outputs": [
        {
          "output_type": "execute_result",
          "data": {
            "text/plain": [
              "  Социальная сеть          ID поста             Владелец  \\\n",
              "0       Вконтакте   -179883141_1180  IT-Academy | Гомель   \n",
              "1       Вконтакте  -117808194_12908          ArtCraft CG   \n",
              "2       Вконтакте   -151903338_4595  IT-Academy | Гродно   \n",
              "3       Вконтакте   -30767675_26961      Фонд «Сколково»   \n",
              "4       Вконтакте   -151903338_4594  IT-Academy | Гродно   \n",
              "\n",
              "                                               Текст Эмоциональный окрас  \\\n",
              "0  Партнер Open IT Gomel — SoftTeco🌟 \\n \\nПрисоед...             Позитив   \n",
              "1  Невероятные картины «из будущего» 😍\\n\\nАвтор: ...             Позитив   \n",
              "2  Опрос показал, что треть респондентов заходят ...       Нейтральность   \n",
              "3  Первый зимний урожай клубники, выращенной по т...             Позитив   \n",
              "4  Помнишь, мы приглашали узнать, кто лишний в IT...             Негатив   \n",
              "\n",
              "                  Дата  Комментариев  Лайков  Репостов  Просмотров  \\\n",
              "0  2022-01-30 18:11:00             0       0         0       155.0   \n",
              "1  2022-01-30 18:00:00             1      37         9      2847.0   \n",
              "2  2022-01-30 17:16:59             0       2         0       123.0   \n",
              "3  2022-01-30 16:45:02             7      49        16      5920.0   \n",
              "4  2022-01-30 16:22:16             0       1         0       147.0   \n",
              "\n",
              "   Негативных комментариев  Позитивных комментариев  Нейтральных комментариев  \\\n",
              "0                        0                        0                         0   \n",
              "1                        0                        0                         1   \n",
              "2                        0                        0                         0   \n",
              "3                        0                        0                         1   \n",
              "4                        0                        0                         0   \n",
              "\n",
              "   Неопределенных комментариев  Вежливых комментариев  \\\n",
              "0                            0                      0   \n",
              "1                            0                      0   \n",
              "2                            0                      0   \n",
              "3                            0                      0   \n",
              "4                            0                      0   \n",
              "\n",
              "   Юмористических комментариев  \n",
              "0                            0  \n",
              "1                            0  \n",
              "2                            0  \n",
              "3                            0  \n",
              "4                            0  "
            ],
            "text/html": [
              "\n",
              "  <div id=\"df-668a17d4-f455-4e04-89d5-0f12798a7162\">\n",
              "    <div class=\"colab-df-container\">\n",
              "      <div>\n",
              "<style scoped>\n",
              "    .dataframe tbody tr th:only-of-type {\n",
              "        vertical-align: middle;\n",
              "    }\n",
              "\n",
              "    .dataframe tbody tr th {\n",
              "        vertical-align: top;\n",
              "    }\n",
              "\n",
              "    .dataframe thead th {\n",
              "        text-align: right;\n",
              "    }\n",
              "</style>\n",
              "<table border=\"1\" class=\"dataframe\">\n",
              "  <thead>\n",
              "    <tr style=\"text-align: right;\">\n",
              "      <th></th>\n",
              "      <th>Социальная сеть</th>\n",
              "      <th>ID поста</th>\n",
              "      <th>Владелец</th>\n",
              "      <th>Текст</th>\n",
              "      <th>Эмоциональный окрас</th>\n",
              "      <th>Дата</th>\n",
              "      <th>Комментариев</th>\n",
              "      <th>Лайков</th>\n",
              "      <th>Репостов</th>\n",
              "      <th>Просмотров</th>\n",
              "      <th>Негативных комментариев</th>\n",
              "      <th>Позитивных комментариев</th>\n",
              "      <th>Нейтральных комментариев</th>\n",
              "      <th>Неопределенных комментариев</th>\n",
              "      <th>Вежливых комментариев</th>\n",
              "      <th>Юмористических комментариев</th>\n",
              "    </tr>\n",
              "  </thead>\n",
              "  <tbody>\n",
              "    <tr>\n",
              "      <th>0</th>\n",
              "      <td>Вконтакте</td>\n",
              "      <td>-179883141_1180</td>\n",
              "      <td>IT-Academy | Гомель</td>\n",
              "      <td>Партнер Open IT Gomel — SoftTeco🌟 \\n \\nПрисоед...</td>\n",
              "      <td>Позитив</td>\n",
              "      <td>2022-01-30 18:11:00</td>\n",
              "      <td>0</td>\n",
              "      <td>0</td>\n",
              "      <td>0</td>\n",
              "      <td>155.0</td>\n",
              "      <td>0</td>\n",
              "      <td>0</td>\n",
              "      <td>0</td>\n",
              "      <td>0</td>\n",
              "      <td>0</td>\n",
              "      <td>0</td>\n",
              "    </tr>\n",
              "    <tr>\n",
              "      <th>1</th>\n",
              "      <td>Вконтакте</td>\n",
              "      <td>-117808194_12908</td>\n",
              "      <td>ArtCraft CG</td>\n",
              "      <td>Невероятные картины «из будущего» 😍\\n\\nАвтор: ...</td>\n",
              "      <td>Позитив</td>\n",
              "      <td>2022-01-30 18:00:00</td>\n",
              "      <td>1</td>\n",
              "      <td>37</td>\n",
              "      <td>9</td>\n",
              "      <td>2847.0</td>\n",
              "      <td>0</td>\n",
              "      <td>0</td>\n",
              "      <td>1</td>\n",
              "      <td>0</td>\n",
              "      <td>0</td>\n",
              "      <td>0</td>\n",
              "    </tr>\n",
              "    <tr>\n",
              "      <th>2</th>\n",
              "      <td>Вконтакте</td>\n",
              "      <td>-151903338_4595</td>\n",
              "      <td>IT-Academy | Гродно</td>\n",
              "      <td>Опрос показал, что треть респондентов заходят ...</td>\n",
              "      <td>Нейтральность</td>\n",
              "      <td>2022-01-30 17:16:59</td>\n",
              "      <td>0</td>\n",
              "      <td>2</td>\n",
              "      <td>0</td>\n",
              "      <td>123.0</td>\n",
              "      <td>0</td>\n",
              "      <td>0</td>\n",
              "      <td>0</td>\n",
              "      <td>0</td>\n",
              "      <td>0</td>\n",
              "      <td>0</td>\n",
              "    </tr>\n",
              "    <tr>\n",
              "      <th>3</th>\n",
              "      <td>Вконтакте</td>\n",
              "      <td>-30767675_26961</td>\n",
              "      <td>Фонд «Сколково»</td>\n",
              "      <td>Первый зимний урожай клубники, выращенной по т...</td>\n",
              "      <td>Позитив</td>\n",
              "      <td>2022-01-30 16:45:02</td>\n",
              "      <td>7</td>\n",
              "      <td>49</td>\n",
              "      <td>16</td>\n",
              "      <td>5920.0</td>\n",
              "      <td>0</td>\n",
              "      <td>0</td>\n",
              "      <td>1</td>\n",
              "      <td>0</td>\n",
              "      <td>0</td>\n",
              "      <td>0</td>\n",
              "    </tr>\n",
              "    <tr>\n",
              "      <th>4</th>\n",
              "      <td>Вконтакте</td>\n",
              "      <td>-151903338_4594</td>\n",
              "      <td>IT-Academy | Гродно</td>\n",
              "      <td>Помнишь, мы приглашали узнать, кто лишний в IT...</td>\n",
              "      <td>Негатив</td>\n",
              "      <td>2022-01-30 16:22:16</td>\n",
              "      <td>0</td>\n",
              "      <td>1</td>\n",
              "      <td>0</td>\n",
              "      <td>147.0</td>\n",
              "      <td>0</td>\n",
              "      <td>0</td>\n",
              "      <td>0</td>\n",
              "      <td>0</td>\n",
              "      <td>0</td>\n",
              "      <td>0</td>\n",
              "    </tr>\n",
              "  </tbody>\n",
              "</table>\n",
              "</div>\n",
              "      <button class=\"colab-df-convert\" onclick=\"convertToInteractive('df-668a17d4-f455-4e04-89d5-0f12798a7162')\"\n",
              "              title=\"Convert this dataframe to an interactive table.\"\n",
              "              style=\"display:none;\">\n",
              "        \n",
              "  <svg xmlns=\"http://www.w3.org/2000/svg\" height=\"24px\"viewBox=\"0 0 24 24\"\n",
              "       width=\"24px\">\n",
              "    <path d=\"M0 0h24v24H0V0z\" fill=\"none\"/>\n",
              "    <path d=\"M18.56 5.44l.94 2.06.94-2.06 2.06-.94-2.06-.94-.94-2.06-.94 2.06-2.06.94zm-11 1L8.5 8.5l.94-2.06 2.06-.94-2.06-.94L8.5 2.5l-.94 2.06-2.06.94zm10 10l.94 2.06.94-2.06 2.06-.94-2.06-.94-.94-2.06-.94 2.06-2.06.94z\"/><path d=\"M17.41 7.96l-1.37-1.37c-.4-.4-.92-.59-1.43-.59-.52 0-1.04.2-1.43.59L10.3 9.45l-7.72 7.72c-.78.78-.78 2.05 0 2.83L4 21.41c.39.39.9.59 1.41.59.51 0 1.02-.2 1.41-.59l7.78-7.78 2.81-2.81c.8-.78.8-2.07 0-2.86zM5.41 20L4 18.59l7.72-7.72 1.47 1.35L5.41 20z\"/>\n",
              "  </svg>\n",
              "      </button>\n",
              "      \n",
              "  <style>\n",
              "    .colab-df-container {\n",
              "      display:flex;\n",
              "      flex-wrap:wrap;\n",
              "      gap: 12px;\n",
              "    }\n",
              "\n",
              "    .colab-df-convert {\n",
              "      background-color: #E8F0FE;\n",
              "      border: none;\n",
              "      border-radius: 50%;\n",
              "      cursor: pointer;\n",
              "      display: none;\n",
              "      fill: #1967D2;\n",
              "      height: 32px;\n",
              "      padding: 0 0 0 0;\n",
              "      width: 32px;\n",
              "    }\n",
              "\n",
              "    .colab-df-convert:hover {\n",
              "      background-color: #E2EBFA;\n",
              "      box-shadow: 0px 1px 2px rgba(60, 64, 67, 0.3), 0px 1px 3px 1px rgba(60, 64, 67, 0.15);\n",
              "      fill: #174EA6;\n",
              "    }\n",
              "\n",
              "    [theme=dark] .colab-df-convert {\n",
              "      background-color: #3B4455;\n",
              "      fill: #D2E3FC;\n",
              "    }\n",
              "\n",
              "    [theme=dark] .colab-df-convert:hover {\n",
              "      background-color: #434B5C;\n",
              "      box-shadow: 0px 1px 3px 1px rgba(0, 0, 0, 0.15);\n",
              "      filter: drop-shadow(0px 1px 2px rgba(0, 0, 0, 0.3));\n",
              "      fill: #FFFFFF;\n",
              "    }\n",
              "  </style>\n",
              "\n",
              "      <script>\n",
              "        const buttonEl =\n",
              "          document.querySelector('#df-668a17d4-f455-4e04-89d5-0f12798a7162 button.colab-df-convert');\n",
              "        buttonEl.style.display =\n",
              "          google.colab.kernel.accessAllowed ? 'block' : 'none';\n",
              "\n",
              "        async function convertToInteractive(key) {\n",
              "          const element = document.querySelector('#df-668a17d4-f455-4e04-89d5-0f12798a7162');\n",
              "          const dataTable =\n",
              "            await google.colab.kernel.invokeFunction('convertToInteractive',\n",
              "                                                     [key], {});\n",
              "          if (!dataTable) return;\n",
              "\n",
              "          const docLinkHtml = 'Like what you see? Visit the ' +\n",
              "            '<a target=\"_blank\" href=https://colab.research.google.com/notebooks/data_table.ipynb>data table notebook</a>'\n",
              "            + ' to learn more about interactive tables.';\n",
              "          element.innerHTML = '';\n",
              "          dataTable['output_type'] = 'display_data';\n",
              "          await google.colab.output.renderOutput(dataTable, element);\n",
              "          const docLink = document.createElement('div');\n",
              "          docLink.innerHTML = docLinkHtml;\n",
              "          element.appendChild(docLink);\n",
              "        }\n",
              "      </script>\n",
              "    </div>\n",
              "  </div>\n",
              "  "
            ]
          },
          "metadata": {},
          "execution_count": 55
        }
      ]
    },
    {
      "cell_type": "code",
      "source": [
        "df_test = df_test[['Текст','Эмоциональный окрас']]"
      ],
      "metadata": {
        "id": "VezeQb_cdmeE"
      },
      "execution_count": null,
      "outputs": []
    },
    {
      "cell_type": "code",
      "source": [
        "df_test[df_test['Эмоциональный окрас']=='Неопределенность']\n",
        "df_test.drop(df_test[df_test['Эмоциональный окрас']=='Неопределенность'].index, inplace=True)\n",
        "df_test.reset_index(inplace=True)\n",
        "df_test.drop('index', axis=1, inplace=True)"
      ],
      "metadata": {
        "id": "srQDIVb9bS6E"
      },
      "execution_count": null,
      "outputs": []
    },
    {
      "cell_type": "code",
      "source": [
        "df_test['Текст'] = df_test['Текст'].apply(preprocess_text) #почистим текст на пунктуацию, заглавные буквы, ссылки и тд\n",
        "df_test['Текст'] = df_test['Текст'].apply(add_spaces_for_smiles) #раделим смайлы\n",
        "df_test['Текст']= df_test.apply(lambda x: stopwords_of_column(x['Текст']), axis=1) #удаляем стоп слова\n",
        "df_test['Текст']= df_test.apply(lambda x: stem_words(x['Текст'], snow_stemmer), axis=1) #стеммизация"
      ],
      "metadata": {
        "id": "x_8BrQZ9eDRE"
      },
      "execution_count": null,
      "outputs": []
    },
    {
      "cell_type": "code",
      "source": [
        "data_test = tokenizer.texts_to_sequences(list(df_test['Текст']))\n",
        "data_pad_test = tf.keras.preprocessing.sequence.pad_sequences(data_test, maxlen=max_text_len,padding='post')"
      ],
      "metadata": {
        "id": "2nxbjzeHfjr2"
      },
      "execution_count": null,
      "outputs": []
    },
    {
      "cell_type": "code",
      "source": [
        "df_test.groupby('Эмоциональный окрас').count()"
      ],
      "metadata": {
        "id": "C9fRQCjbheuR",
        "colab": {
          "base_uri": "https://localhost:8080/",
          "height": 231
        },
        "outputId": "1255e49a-98fa-400c-d383-44d936dc1f7b"
      },
      "execution_count": null,
      "outputs": [
        {
          "output_type": "execute_result",
          "data": {
            "text/plain": [
              "                     Текст\n",
              "Эмоциональный окрас       \n",
              "Вежливость              17\n",
              "Негатив                191\n",
              "Нейтральность         1213\n",
              "Позитив               1032\n",
              "Юмор                    37"
            ],
            "text/html": [
              "\n",
              "  <div id=\"df-9aefd714-95f2-42cc-b280-7f66e4f3c7b0\">\n",
              "    <div class=\"colab-df-container\">\n",
              "      <div>\n",
              "<style scoped>\n",
              "    .dataframe tbody tr th:only-of-type {\n",
              "        vertical-align: middle;\n",
              "    }\n",
              "\n",
              "    .dataframe tbody tr th {\n",
              "        vertical-align: top;\n",
              "    }\n",
              "\n",
              "    .dataframe thead th {\n",
              "        text-align: right;\n",
              "    }\n",
              "</style>\n",
              "<table border=\"1\" class=\"dataframe\">\n",
              "  <thead>\n",
              "    <tr style=\"text-align: right;\">\n",
              "      <th></th>\n",
              "      <th>Текст</th>\n",
              "    </tr>\n",
              "    <tr>\n",
              "      <th>Эмоциональный окрас</th>\n",
              "      <th></th>\n",
              "    </tr>\n",
              "  </thead>\n",
              "  <tbody>\n",
              "    <tr>\n",
              "      <th>Вежливость</th>\n",
              "      <td>17</td>\n",
              "    </tr>\n",
              "    <tr>\n",
              "      <th>Негатив</th>\n",
              "      <td>191</td>\n",
              "    </tr>\n",
              "    <tr>\n",
              "      <th>Нейтральность</th>\n",
              "      <td>1213</td>\n",
              "    </tr>\n",
              "    <tr>\n",
              "      <th>Позитив</th>\n",
              "      <td>1032</td>\n",
              "    </tr>\n",
              "    <tr>\n",
              "      <th>Юмор</th>\n",
              "      <td>37</td>\n",
              "    </tr>\n",
              "  </tbody>\n",
              "</table>\n",
              "</div>\n",
              "      <button class=\"colab-df-convert\" onclick=\"convertToInteractive('df-9aefd714-95f2-42cc-b280-7f66e4f3c7b0')\"\n",
              "              title=\"Convert this dataframe to an interactive table.\"\n",
              "              style=\"display:none;\">\n",
              "        \n",
              "  <svg xmlns=\"http://www.w3.org/2000/svg\" height=\"24px\"viewBox=\"0 0 24 24\"\n",
              "       width=\"24px\">\n",
              "    <path d=\"M0 0h24v24H0V0z\" fill=\"none\"/>\n",
              "    <path d=\"M18.56 5.44l.94 2.06.94-2.06 2.06-.94-2.06-.94-.94-2.06-.94 2.06-2.06.94zm-11 1L8.5 8.5l.94-2.06 2.06-.94-2.06-.94L8.5 2.5l-.94 2.06-2.06.94zm10 10l.94 2.06.94-2.06 2.06-.94-2.06-.94-.94-2.06-.94 2.06-2.06.94z\"/><path d=\"M17.41 7.96l-1.37-1.37c-.4-.4-.92-.59-1.43-.59-.52 0-1.04.2-1.43.59L10.3 9.45l-7.72 7.72c-.78.78-.78 2.05 0 2.83L4 21.41c.39.39.9.59 1.41.59.51 0 1.02-.2 1.41-.59l7.78-7.78 2.81-2.81c.8-.78.8-2.07 0-2.86zM5.41 20L4 18.59l7.72-7.72 1.47 1.35L5.41 20z\"/>\n",
              "  </svg>\n",
              "      </button>\n",
              "      \n",
              "  <style>\n",
              "    .colab-df-container {\n",
              "      display:flex;\n",
              "      flex-wrap:wrap;\n",
              "      gap: 12px;\n",
              "    }\n",
              "\n",
              "    .colab-df-convert {\n",
              "      background-color: #E8F0FE;\n",
              "      border: none;\n",
              "      border-radius: 50%;\n",
              "      cursor: pointer;\n",
              "      display: none;\n",
              "      fill: #1967D2;\n",
              "      height: 32px;\n",
              "      padding: 0 0 0 0;\n",
              "      width: 32px;\n",
              "    }\n",
              "\n",
              "    .colab-df-convert:hover {\n",
              "      background-color: #E2EBFA;\n",
              "      box-shadow: 0px 1px 2px rgba(60, 64, 67, 0.3), 0px 1px 3px 1px rgba(60, 64, 67, 0.15);\n",
              "      fill: #174EA6;\n",
              "    }\n",
              "\n",
              "    [theme=dark] .colab-df-convert {\n",
              "      background-color: #3B4455;\n",
              "      fill: #D2E3FC;\n",
              "    }\n",
              "\n",
              "    [theme=dark] .colab-df-convert:hover {\n",
              "      background-color: #434B5C;\n",
              "      box-shadow: 0px 1px 3px 1px rgba(0, 0, 0, 0.15);\n",
              "      filter: drop-shadow(0px 1px 2px rgba(0, 0, 0, 0.3));\n",
              "      fill: #FFFFFF;\n",
              "    }\n",
              "  </style>\n",
              "\n",
              "      <script>\n",
              "        const buttonEl =\n",
              "          document.querySelector('#df-9aefd714-95f2-42cc-b280-7f66e4f3c7b0 button.colab-df-convert');\n",
              "        buttonEl.style.display =\n",
              "          google.colab.kernel.accessAllowed ? 'block' : 'none';\n",
              "\n",
              "        async function convertToInteractive(key) {\n",
              "          const element = document.querySelector('#df-9aefd714-95f2-42cc-b280-7f66e4f3c7b0');\n",
              "          const dataTable =\n",
              "            await google.colab.kernel.invokeFunction('convertToInteractive',\n",
              "                                                     [key], {});\n",
              "          if (!dataTable) return;\n",
              "\n",
              "          const docLinkHtml = 'Like what you see? Visit the ' +\n",
              "            '<a target=\"_blank\" href=https://colab.research.google.com/notebooks/data_table.ipynb>data table notebook</a>'\n",
              "            + ' to learn more about interactive tables.';\n",
              "          element.innerHTML = '';\n",
              "          dataTable['output_type'] = 'display_data';\n",
              "          await google.colab.output.renderOutput(dataTable, element);\n",
              "          const docLink = document.createElement('div');\n",
              "          docLink.innerHTML = docLinkHtml;\n",
              "          element.appendChild(docLink);\n",
              "        }\n",
              "      </script>\n",
              "    </div>\n",
              "  </div>\n",
              "  "
            ]
          },
          "metadata": {},
          "execution_count": 60
        }
      ]
    },
    {
      "cell_type": "code",
      "source": [
        "theme2id = {k:i for i, k in enumerate(sorted(df_test['Эмоциональный окрас'].unique()))}\n",
        "#theme2id['Неопределенность'] = 5\n",
        "theme2id"
      ],
      "metadata": {
        "id": "6YpESRwNhXZ-",
        "colab": {
          "base_uri": "https://localhost:8080/"
        },
        "outputId": "144e0f01-5442-4e26-e7d6-1a847135c7c6"
      },
      "execution_count": null,
      "outputs": [
        {
          "output_type": "execute_result",
          "data": {
            "text/plain": [
              "{'Вежливость': 0, 'Негатив': 1, 'Нейтральность': 2, 'Позитив': 3, 'Юмор': 4}"
            ]
          },
          "metadata": {},
          "execution_count": 61
        }
      ]
    },
    {
      "cell_type": "code",
      "source": [
        "X_test = data_pad_test\n",
        "df_test.drop(df_test[df_test['Эмоциональный окрас']=='Неопределенность'].index, inplace=True)\n",
        "y_true = df_test['Эмоциональный окрас'].apply(lambda x: theme2id[x]).values\n",
        "Y_test = pd.get_dummies(df_test['Эмоциональный окрас'],prefix='окрас')\n",
        "print(X_test.shape, Y_test.shape)"
      ],
      "metadata": {
        "id": "fajKFnRNf9pB",
        "colab": {
          "base_uri": "https://localhost:8080/"
        },
        "outputId": "b77a8a0a-e123-476b-a233-c116d4255beb"
      },
      "execution_count": null,
      "outputs": [
        {
          "output_type": "stream",
          "name": "stdout",
          "text": [
            "(2490, 100) (2490, 5)\n"
          ]
        }
      ]
    },
    {
      "cell_type": "code",
      "source": [
        "X = data_pad\n",
        "Y = pd.get_dummies(df_train['Эмоциональный окрас'],prefix='окрас')#pd.get_dummies(df_train['Эмоциональный окрас'].apply(lambda x: class2id[x])).values\n",
        "print(X.shape, Y.shape)"
      ],
      "metadata": {
        "id": "1-62tZyWkERo",
        "colab": {
          "base_uri": "https://localhost:8080/"
        },
        "outputId": "99e19919-6ad5-42ed-b94e-aa6f3990fda6"
      },
      "execution_count": null,
      "outputs": [
        {
          "output_type": "stream",
          "name": "stdout",
          "text": [
            "(20351, 100) (20351, 5)\n"
          ]
        }
      ]
    },
    {
      "cell_type": "code",
      "source": [
        "# tf.debugging.set_log_device_placement(True)"
      ],
      "metadata": {
        "id": "Y7i7p2iURDRV"
      },
      "execution_count": null,
      "outputs": []
    },
    {
      "cell_type": "code",
      "source": [
        "# model = tf.keras.Sequential()\n",
        "# model.add(tf.keras.layers.Embedding(maxWordsCount, 128, input_length = max_text_len))\n",
        "# model.add(tf.keras.layers.LSTM(64, activation='tanh', return_sequences=True))\n",
        "# model.add(tf.keras.layers.LSTM(32, activation='tanh'))\n",
        "# model.add(tf.keras.layers.Dense(5, activation='softmax'))\n",
        "# model.summary()\n",
        " \n",
        "# model.compile(loss='categorical_crossentropy', metrics=['accuracy'], optimizer=tf.keras.optimizers.Adam(0.0001))"
      ],
      "metadata": {
        "id": "XYKpnhtJKMMt"
      },
      "execution_count": null,
      "outputs": []
    },
    {
      "cell_type": "code",
      "source": [
        "model = tf.keras.Sequential()\n",
        "model.add(tf.keras.layers.Embedding(maxWordsCount, 128, input_length = max_text_len))\n",
        "model.add(tf.keras.layers.Bidirectional(tf.keras.layers.LSTM(64, activation='tanh',  return_sequences=True)))\n",
        "model.add(tf.keras.layers.Bidirectional(tf.keras.layers.LSTM(32, activation='tanh')))\n",
        "model.add(tf.keras.layers.Dense(5, activation='softmax'))\n",
        "model.summary()\n",
        " \n",
        "model.compile(loss='categorical_crossentropy', metrics=['categorical_accuracy'], optimizer=tf.keras.optimizers.Adam(0.0001))"
      ],
      "metadata": {
        "id": "Q7VdFOeQ3rcE",
        "colab": {
          "base_uri": "https://localhost:8080/"
        },
        "outputId": "a4270b23-479c-4566-eb93-b0811620ab90"
      },
      "execution_count": null,
      "outputs": [
        {
          "output_type": "stream",
          "name": "stdout",
          "text": [
            "Model: \"sequential_1\"\n",
            "_________________________________________________________________\n",
            " Layer (type)                Output Shape              Param #   \n",
            "=================================================================\n",
            " embedding_1 (Embedding)     (None, 100, 128)          3840000   \n",
            "                                                                 \n",
            " bidirectional_2 (Bidirectio  (None, 100, 128)         98816     \n",
            " nal)                                                            \n",
            "                                                                 \n",
            " bidirectional_3 (Bidirectio  (None, 64)               41216     \n",
            " nal)                                                            \n",
            "                                                                 \n",
            " dense_1 (Dense)             (None, 5)                 325       \n",
            "                                                                 \n",
            "=================================================================\n",
            "Total params: 3,980,357\n",
            "Trainable params: 3,980,357\n",
            "Non-trainable params: 0\n",
            "_________________________________________________________________\n"
          ]
        }
      ]
    },
    {
      "cell_type": "code",
      "source": [
        "history = model.fit(X, Y, batch_size=64, epochs=10,validation_data=(X_test, Y_test))"
      ],
      "metadata": {
        "id": "Y7vV6InO4IyS",
        "colab": {
          "base_uri": "https://localhost:8080/"
        },
        "outputId": "000cdd1c-7ecf-4828-b818-1706f2e6b693"
      },
      "execution_count": null,
      "outputs": [
        {
          "output_type": "stream",
          "name": "stdout",
          "text": [
            "Epoch 1/10\n",
            "318/318 [==============================] - 13s 26ms/step - loss: 1.2205 - categorical_accuracy: 0.5766 - val_loss: 1.3979 - val_categorical_accuracy: 0.4863\n",
            "Epoch 2/10\n",
            "318/318 [==============================] - 7s 22ms/step - loss: 1.1015 - categorical_accuracy: 0.6028 - val_loss: 1.4996 - val_categorical_accuracy: 0.3382\n",
            "Epoch 3/10\n",
            "318/318 [==============================] - 7s 22ms/step - loss: 0.9291 - categorical_accuracy: 0.6616 - val_loss: 1.7184 - val_categorical_accuracy: 0.4056\n",
            "Epoch 4/10\n",
            "318/318 [==============================] - 7s 22ms/step - loss: 0.7031 - categorical_accuracy: 0.7469 - val_loss: 1.8254 - val_categorical_accuracy: 0.4112\n",
            "Epoch 5/10\n",
            "318/318 [==============================] - 7s 22ms/step - loss: 0.5815 - categorical_accuracy: 0.7855 - val_loss: 1.8541 - val_categorical_accuracy: 0.4345\n",
            "Epoch 6/10\n",
            "318/318 [==============================] - 7s 22ms/step - loss: 0.4914 - categorical_accuracy: 0.8231 - val_loss: 1.9743 - val_categorical_accuracy: 0.4474\n",
            "Epoch 7/10\n",
            "318/318 [==============================] - 7s 22ms/step - loss: 0.4247 - categorical_accuracy: 0.8578 - val_loss: 1.9906 - val_categorical_accuracy: 0.4297\n",
            "Epoch 8/10\n",
            "318/318 [==============================] - 7s 22ms/step - loss: 0.3769 - categorical_accuracy: 0.8801 - val_loss: 2.0175 - val_categorical_accuracy: 0.4337\n",
            "Epoch 9/10\n",
            "318/318 [==============================] - 7s 22ms/step - loss: 0.3246 - categorical_accuracy: 0.8995 - val_loss: 2.3105 - val_categorical_accuracy: 0.4137\n",
            "Epoch 10/10\n",
            "318/318 [==============================] - 7s 22ms/step - loss: 0.2907 - categorical_accuracy: 0.9133 - val_loss: 2.1714 - val_categorical_accuracy: 0.4386\n"
          ]
        }
      ]
    },
    {
      "cell_type": "code",
      "source": [
        "# model = tf.keras.Sequential()\n",
        "# model.add(tf.keras.layers.Embedding(maxWordsCount, 128, input_length = max_text_len))\n",
        "# model.add(tf.keras.layers.Bidirectional(tf.keras.layers.LSTM(64, activation='tanh',  return_sequences=True)))\n",
        "# model.add(tf.keras.layers.Bidirectional(tf.keras.layers.LSTM(32, activation='tanh')))\n",
        "# model.add(tf.keras.layers.Dense(64, activation='relu'))\n",
        "# model.add(tf.keras.layers.Dropout(0.5))\n",
        "# model.add(tf.keras.layers.Dense(5, activation='softmax'))\n",
        "# model.summary()\n",
        " \n",
        "# model.compile(loss='categorical_crossentropy', metrics=['accuracy'], optimizer=tf.keras.optimizers.Adam(0.0001))"
      ],
      "metadata": {
        "id": "bBrkYRKaidrj"
      },
      "execution_count": null,
      "outputs": []
    },
    {
      "cell_type": "code",
      "source": [
        "pred = model.predict(X_test)"
      ],
      "metadata": {
        "id": "kBog6GU6gIZk"
      },
      "execution_count": null,
      "outputs": []
    },
    {
      "cell_type": "code",
      "source": [
        "#y_true = Y_test\n",
        "y_pred = np.array(pd.DataFrame(pred).idxmax(axis=1))\n",
        "accuracy_lstm = np.round(accuracy_score(y_true, y_pred),4)\n",
        "accuracy_lstm"
      ],
      "metadata": {
        "id": "-4WQIedwn0v6",
        "colab": {
          "base_uri": "https://localhost:8080/"
        },
        "outputId": "ceef226d-ac21-4db7-ed07-fc4a2002017f"
      },
      "execution_count": null,
      "outputs": [
        {
          "output_type": "execute_result",
          "data": {
            "text/plain": [
              "0.4386"
            ]
          },
          "metadata": {},
          "execution_count": 70
        }
      ]
    },
    {
      "cell_type": "code",
      "source": [
        "f1_lstm = np.round(f1_score(y_true, y_pred, average='weighted'),4)\n",
        "f1_lstm"
      ],
      "metadata": {
        "colab": {
          "base_uri": "https://localhost:8080/"
        },
        "id": "HUCaCm8gOxDp",
        "outputId": "3b8f64f3-c261-4c4d-fe6e-4dda222d5739"
      },
      "execution_count": null,
      "outputs": [
        {
          "output_type": "execute_result",
          "data": {
            "text/plain": [
              "0.4203"
            ]
          },
          "metadata": {},
          "execution_count": 71
        }
      ]
    },
    {
      "cell_type": "code",
      "source": [
        "precision_lstm = np.round(precision_score(y_true, y_pred, average='weighted'),4)\n",
        "precision_lstm"
      ],
      "metadata": {
        "colab": {
          "base_uri": "https://localhost:8080/"
        },
        "id": "hOfXVGCsPHJL",
        "outputId": "b12268e8-9dd2-404c-bf19-d60a465891d0"
      },
      "execution_count": null,
      "outputs": [
        {
          "output_type": "execute_result",
          "data": {
            "text/plain": [
              "0.5335"
            ]
          },
          "metadata": {},
          "execution_count": 72
        }
      ]
    },
    {
      "cell_type": "code",
      "source": [
        "recall_lstm = np.round(recall_score(y_true, y_pred, average='weighted'),4)\n",
        "recall_lstm"
      ],
      "metadata": {
        "colab": {
          "base_uri": "https://localhost:8080/"
        },
        "id": "tDuYCzmWPLra",
        "outputId": "5a9e286d-478c-48ff-d300-1b6f5a19de52"
      },
      "execution_count": null,
      "outputs": [
        {
          "output_type": "execute_result",
          "data": {
            "text/plain": [
              "0.4386"
            ]
          },
          "metadata": {},
          "execution_count": 73
        }
      ]
    },
    {
      "cell_type": "code",
      "source": [
        "from sklearn.metrics import confusion_matrix, ConfusionMatrixDisplay\n",
        "from sklearn.metrics import plot_confusion_matrix\n",
        "from sklearn.datasets import make_classification"
      ],
      "metadata": {
        "id": "DCBxZeqxSDM4"
      },
      "execution_count": null,
      "outputs": []
    },
    {
      "cell_type": "code",
      "source": [
        "cm = confusion_matrix(y_true, y_pred)\n",
        "cm"
      ],
      "metadata": {
        "colab": {
          "base_uri": "https://localhost:8080/"
        },
        "id": "Yjzg8BILSDV0",
        "outputId": "1c031c78-eef3-4e39-f76c-42a735e2fd1d"
      },
      "execution_count": null,
      "outputs": [
        {
          "output_type": "execute_result",
          "data": {
            "text/plain": [
              "array([[  8,   0,   2,   7,   0],\n",
              "       [  1,  73,  98,   5,  14],\n",
              "       [  8, 257, 822,  85,  41],\n",
              "       [ 17, 140, 669, 188,  18],\n",
              "       [  0,   8,  27,   1,   1]])"
            ]
          },
          "metadata": {},
          "execution_count": 75
        }
      ]
    },
    {
      "cell_type": "code",
      "source": [
        "id2theme = {i:k for i, k in enumerate(sorted(df_test['Эмоциональный окрас'].unique()))}\n",
        "id2theme"
      ],
      "metadata": {
        "colab": {
          "base_uri": "https://localhost:8080/"
        },
        "id": "xLGEpe4-WK8g",
        "outputId": "1e32212b-0934-4e4d-beb9-de8734deaed3"
      },
      "execution_count": null,
      "outputs": [
        {
          "output_type": "execute_result",
          "data": {
            "text/plain": [
              "{0: 'Вежливость', 1: 'Негатив', 2: 'Нейтральность', 3: 'Позитив', 4: 'Юмор'}"
            ]
          },
          "metadata": {},
          "execution_count": 76
        }
      ]
    },
    {
      "cell_type": "code",
      "source": [
        "y_true_ = pd.Series(y_true).apply(lambda x: id2theme[x]).values\n",
        "y_pred_ = pd.Series(y_pred).apply(lambda x: id2theme[x]).values"
      ],
      "metadata": {
        "id": "xL4WOI_rWLBg"
      },
      "execution_count": null,
      "outputs": []
    },
    {
      "cell_type": "code",
      "source": [
        "fig, ax = plt.subplots(figsize=(7,7))\n",
        "ConfusionMatrixDisplay.from_predictions(y_true_, y_pred_,xticks_rotation='vertical',ax=ax)\n",
        "plt.plot()"
      ],
      "metadata": {
        "colab": {
          "base_uri": "https://localhost:8080/",
          "height": 495
        },
        "id": "tfF7eEkcXa-4",
        "outputId": "43e27cbb-6e09-44e7-803b-8e0c4ae00dea"
      },
      "execution_count": null,
      "outputs": [
        {
          "output_type": "execute_result",
          "data": {
            "text/plain": [
              "[]"
            ]
          },
          "metadata": {},
          "execution_count": 78
        },
        {
          "output_type": "display_data",
          "data": {
            "text/plain": [
              "<Figure size 504x504 with 2 Axes>"
            ],
            "image/png": "[encoded data removed]"
          },
          "metadata": {
            "needs_background": "light"
          }
        }
      ]
    },
    {
      "cell_type": "code",
      "source": [
        "vegl_lstm = int(cm[0][0]/cm[0].sum() * 100)\n",
        "neg_lstm = int(cm[1][1]/cm[1].sum() * 100)\n",
        "neutral_lstm = int(cm[2][2]/cm[2].sum() * 100)\n",
        "posit_lstm = int(cm[3][3]/cm[3].sum() * 100)\n",
        "umor_lstm = int(cm[4][4]/cm[4].sum() * 100)"
      ],
      "metadata": {
        "id": "_8M6k3ISc3c9"
      },
      "execution_count": null,
      "outputs": []
    },
    {
      "cell_type": "markdown",
      "source": [
        "## dostoevsky"
      ],
      "metadata": {
        "id": "QtCUjRDSP9Je"
      }
    },
    {
      "cell_type": "code",
      "source": [
        "!pip install dostoevsky"
      ],
      "metadata": {
        "colab": {
          "base_uri": "https://localhost:8080/"
        },
        "id": "IQFQnIQWnKlA",
        "outputId": "e2044f62-1ed5-421d-f589-3ec7fb1671ea"
      },
      "execution_count": null,
      "outputs": [
        {
          "output_type": "stream",
          "name": "stdout",
          "text": [
            "Looking in indexes: https://pypi.org/simple, https://us-python.pkg.dev/colab-wheels/public/simple/\n",
            "Collecting dostoevsky\n",
            "  Downloading dostoevsky-0.6.0-py2.py3-none-any.whl (8.5 kB)\n",
            "Collecting razdel==0.5.0\n",
            "  Downloading razdel-0.5.0-py3-none-any.whl (21 kB)\n",
            "Collecting fasttext==0.9.2\n",
            "  Downloading fasttext-0.9.2.tar.gz (68 kB)\n",
            "\u001b[K     |████████████████████████████████| 68 kB 3.9 MB/s \n",
            "\u001b[?25hCollecting pybind11>=2.2\n",
            "  Using cached pybind11-2.9.2-py2.py3-none-any.whl (213 kB)\n",
            "Requirement already satisfied: setuptools>=0.7.0 in /usr/local/lib/python3.7/dist-packages (from fasttext==0.9.2->dostoevsky) (57.4.0)\n",
            "Requirement already satisfied: numpy in /usr/local/lib/python3.7/dist-packages (from fasttext==0.9.2->dostoevsky) (1.21.6)\n",
            "Building wheels for collected packages: fasttext\n",
            "  Building wheel for fasttext (setup.py) ... \u001b[?25l\u001b[?25hdone\n",
            "  Created wheel for fasttext: filename=fasttext-0.9.2-cp37-cp37m-linux_x86_64.whl size=3140743 sha256=592c00e8945e842ddeb040af38d27548a6c2d1be332aff786606ae75bf9df4fd\n",
            "  Stored in directory: /root/.cache/pip/wheels/4e/ca/bf/b020d2be95f7641801a6597a29c8f4f19e38f9c02a345bab9b\n",
            "Successfully built fasttext\n",
            "Installing collected packages: pybind11, razdel, fasttext, dostoevsky\n",
            "Successfully installed dostoevsky-0.6.0 fasttext-0.9.2 pybind11-2.9.2 razdel-0.5.0\n"
          ]
        }
      ]
    },
    {
      "cell_type": "code",
      "source": [
        "!wget https://storage.b-labs.pro/models/fasttext-social-network-model.bin"
      ],
      "metadata": {
        "colab": {
          "base_uri": "https://localhost:8080/"
        },
        "id": "Ellz08vjorsp",
        "outputId": "dda7545a-88e6-4071-b9a1-af250299aaa1"
      },
      "execution_count": null,
      "outputs": [
        {
          "output_type": "stream",
          "name": "stdout",
          "text": [
            "--2022-06-17 14:48:08--  https://storage.b-labs.pro/models/fasttext-social-network-model.bin\n",
            "Resolving storage.b-labs.pro (storage.b-labs.pro)... 104.21.14.222, 172.67.160.159, 2606:4700:3035::6815:ede, ...\n",
            "Connecting to storage.b-labs.pro (storage.b-labs.pro)|104.21.14.222|:443... connected.\n",
            "HTTP request sent, awaiting response... 200 OK\n",
            "Length: 84051390 (80M) [application/x-sega-cd-rom]\n",
            "Saving to: ‘fasttext-social-network-model.bin’\n",
            "\n",
            "fasttext-social-net 100%[===================>]  80.16M  15.5MB/s    in 6.5s    \n",
            "\n",
            "2022-06-17 14:48:16 (12.4 MB/s) - ‘fasttext-social-network-model.bin’ saved [84051390/84051390]\n",
            "\n"
          ]
        }
      ]
    },
    {
      "cell_type": "code",
      "source": [
        "from dostoevsky.tokenization import RegexTokenizer\n",
        "from dostoevsky.models import FastTextSocialNetworkModel"
      ],
      "metadata": {
        "id": "t8rTvEhol2jD"
      },
      "execution_count": null,
      "outputs": []
    },
    {
      "cell_type": "code",
      "source": [
        "# tokenizer = RegexTokenizer()\n",
        "# FastTextSocialNetworkModel.MODEL_PATH = 'fasttext-social-network-model.bin'\n",
        "# model = FastTextSocialNetworkModel(tokenizer=tokenizer)\n",
        "# print(model.predict(['строк числ работа 🤣 🤣']))\n",
        "# print(model.predict(['строк числ работа🤣🤣']))\n",
        "# print(model.predict(['строк числ работа']))\n",
        "# print('\\n')\n",
        "# print(model.predict(['Как строки с числами работают🤣🤣']))\n",
        "# print(model.predict(['Как строки с числами работают 🤣 🤣']))\n",
        "# print(model.predict(['Как строки с числами работают']))"
      ],
      "metadata": {
        "id": "Ke2xt0FlyvCU"
      },
      "execution_count": null,
      "outputs": []
    },
    {
      "cell_type": "code",
      "source": [
        "tokenizer = RegexTokenizer()\n",
        "FastTextSocialNetworkModel.MODEL_PATH = 'fasttext-social-network-model.bin'\n",
        "model = FastTextSocialNetworkModel(tokenizer=tokenizer)\n",
        "\n",
        "results = model.predict(df_test['Текст'], k = 2)\n",
        "\n",
        "# for message, sentiment in zip(df_test['Текст'], results):\n",
        "#     print(message, '->', sentiment)\n",
        "#     break"
      ],
      "metadata": {
        "colab": {
          "base_uri": "https://localhost:8080/"
        },
        "id": "bBprEIS1nD54",
        "outputId": "dbc5a1f9-8df5-4a04-c87d-3a2deb209bf9"
      },
      "execution_count": null,
      "outputs": [
        {
          "output_type": "stream",
          "name": "stderr",
          "text": [
            "Warning : `load_model` does not return WordVectorModel or SupervisedModel any more, but a `FastText` object which is very similar.\n"
          ]
        }
      ]
    },
    {
      "cell_type": "code",
      "source": [
        "model.predict(['строк числ работа 🤣 🤣'])"
      ],
      "metadata": {
        "colab": {
          "base_uri": "https://localhost:8080/"
        },
        "id": "cbIo5utKddjD",
        "outputId": "ce9523f4-5007-4c87-aeef-e8dcf2f15d90"
      },
      "execution_count": null,
      "outputs": [
        {
          "output_type": "execute_result",
          "data": {
            "text/plain": [
              "[{'negative': 0.06009664759039879,\n",
              "  'neutral': 0.9911626577377319,\n",
              "  'positive': 0.00042731568100862205,\n",
              "  'skip': 0.11597072333097458,\n",
              "  'speech': 1.0000003385357559e-05}]"
            ]
          },
          "metadata": {},
          "execution_count": 88
        }
      ]
    },
    {
      "cell_type": "code",
      "source": [
        "model.predict(['Как строки с числами работают🤣🤣'])"
      ],
      "metadata": {
        "colab": {
          "base_uri": "https://localhost:8080/"
        },
        "id": "jvbLse5NeW6m",
        "outputId": "719a83b0-be7a-45ff-f692-a64c82745e3c"
      },
      "execution_count": null,
      "outputs": [
        {
          "output_type": "execute_result",
          "data": {
            "text/plain": [
              "[{'negative': 0.08036746829748154,\n",
              "  'neutral': 0.9511522054672241,\n",
              "  'positive': 0.0031826822087168694,\n",
              "  'skip': 0.06755668669939041,\n",
              "  'speech': 0.005921069998294115}]"
            ]
          },
          "metadata": {},
          "execution_count": 89
        }
      ]
    },
    {
      "cell_type": "code",
      "source": [
        "df_test[\"Результаты dostoevsky (preprocess)\"] = pd.Series([max(_a.items(), key=lambda x: x[1])[0] for _a in results])"
      ],
      "metadata": {
        "id": "w1kavvAiiLYU"
      },
      "execution_count": null,
      "outputs": []
    },
    {
      "cell_type": "code",
      "source": [
        "df_test[\"Результаты dostoevsky (preprocess)\"] =  np.where((df_test[\"Результаты dostoevsky (preprocess)\"] == 'neutral'),'Нейтральность', df_test[\"Результаты dostoevsky (preprocess)\"])\n",
        "df_test[\"Результаты dostoevsky (preprocess)\"] =  np.where((df_test[\"Результаты dostoevsky (preprocess)\"] == 'positive'),'Позитив', df_test[\"Результаты dostoevsky (preprocess)\"])\n",
        "df_test[\"Результаты dostoevsky (preprocess)\"] =  np.where((df_test[\"Результаты dostoevsky (preprocess)\"] == 'skip'),'Нейтральность', df_test[\"Результаты dostoevsky (preprocess)\"])\n",
        "df_test[\"Результаты dostoevsky (preprocess)\"] =  np.where((df_test[\"Результаты dostoevsky (preprocess)\"] == 'negative'),'Негатив', df_test[\"Результаты dostoevsky (preprocess)\"])\n",
        "df_test[\"Результаты dostoevsky (preprocess)\"] =  np.where((df_test[\"Результаты dostoevsky (preprocess)\"] == 'speech'),'Нейтральность', df_test[\"Результаты dostoevsky (preprocess)\"])\n",
        "df_test[\"Результаты dostoevsky (preprocess)\"] = df_test[\"Результаты dostoevsky (preprocess)\"].fillna('Нейтральность')"
      ],
      "metadata": {
        "id": "edn1JdjStc-s"
      },
      "execution_count": null,
      "outputs": []
    },
    {
      "cell_type": "code",
      "source": [
        "#y_pred_dostoevsky = df_test['Результаты dostoevsky'].apply(lambda x: theme2id[x]).values"
      ],
      "metadata": {
        "id": "ADC0GKy3vYCZ"
      },
      "execution_count": null,
      "outputs": []
    },
    {
      "cell_type": "code",
      "source": [
        "accuracy_dost1 = np.round(accuracy_score(y_true_, df_test['Результаты dostoevsky (preprocess)']),4)\n",
        "accuracy_dost1"
      ],
      "metadata": {
        "colab": {
          "base_uri": "https://localhost:8080/"
        },
        "id": "0uUS-5BnvYJu",
        "outputId": "a06873d5-25cc-4ecc-a88f-bd26c2f16bf1"
      },
      "execution_count": null,
      "outputs": [
        {
          "output_type": "execute_result",
          "data": {
            "text/plain": [
              "0.4855"
            ]
          },
          "metadata": {},
          "execution_count": 93
        }
      ]
    },
    {
      "cell_type": "code",
      "source": [
        "f1_dost1 = np.round(f1_score(y_true_, df_test['Результаты dostoevsky (preprocess)'], average='weighted'),4)\n",
        "f1_dost1"
      ],
      "metadata": {
        "colab": {
          "base_uri": "https://localhost:8080/"
        },
        "id": "BiRJu5yS6pJo",
        "outputId": "e63d1635-5cf1-4129-921f-7211b2a73521"
      },
      "execution_count": null,
      "outputs": [
        {
          "output_type": "execute_result",
          "data": {
            "text/plain": [
              "0.3255"
            ]
          },
          "metadata": {},
          "execution_count": 94
        }
      ]
    },
    {
      "cell_type": "code",
      "source": [
        "precision_dost1 = np.round(precision_score(y_true_, df_test['Результаты dostoevsky (preprocess)'], average='weighted'),4)\n",
        "precision_dost1"
      ],
      "metadata": {
        "colab": {
          "base_uri": "https://localhost:8080/"
        },
        "outputId": "82cff62f-6e33-40b4-9ec2-d906d6328d35",
        "id": "qlS5JfLbP0eo"
      },
      "execution_count": null,
      "outputs": [
        {
          "output_type": "stream",
          "name": "stderr",
          "text": [
            "/usr/local/lib/python3.7/dist-packages/sklearn/metrics/_classification.py:1318: UndefinedMetricWarning: Precision is ill-defined and being set to 0.0 in labels with no predicted samples. Use `zero_division` parameter to control this behavior.\n",
            "  _warn_prf(average, modifier, msg_start, len(result))\n"
          ]
        },
        {
          "output_type": "execute_result",
          "data": {
            "text/plain": [
              "0.4333"
            ]
          },
          "metadata": {},
          "execution_count": 95
        }
      ]
    },
    {
      "cell_type": "code",
      "source": [
        "recall_dost1 = np.round(recall_score(y_true_, df_test['Результаты dostoevsky (preprocess)'], average='weighted'),4)\n",
        "recall_dost1"
      ],
      "metadata": {
        "colab": {
          "base_uri": "https://localhost:8080/"
        },
        "outputId": "63bc4a00-b99f-4b42-cbdd-f8b9abb5c99b",
        "id": "i42fIaaOP0ex"
      },
      "execution_count": null,
      "outputs": [
        {
          "output_type": "execute_result",
          "data": {
            "text/plain": [
              "0.4855"
            ]
          },
          "metadata": {},
          "execution_count": 96
        }
      ]
    },
    {
      "cell_type": "code",
      "source": [
        "y_pred_d1 = list(df_test['Результаты dostoevsky (preprocess)'])\n",
        "fig, ax = plt.subplots(figsize=(7,7))\n",
        "ConfusionMatrixDisplay.from_predictions(y_true_, y_pred_d1,xticks_rotation='vertical',ax=ax)\n",
        "plt.plot()"
      ],
      "metadata": {
        "colab": {
          "base_uri": "https://localhost:8080/",
          "height": 495
        },
        "id": "dR4yevWDjAgU",
        "outputId": "59b4dee9-d24d-4fcd-dfc4-6fa992674ce9"
      },
      "execution_count": null,
      "outputs": [
        {
          "output_type": "execute_result",
          "data": {
            "text/plain": [
              "[]"
            ]
          },
          "metadata": {},
          "execution_count": 97
        },
        {
          "output_type": "display_data",
          "data": {
            "text/plain": [
              "<Figure size 504x504 with 2 Axes>"
            ],
            "image/png": "[encoded data removed]"
          },
          "metadata": {
            "needs_background": "light"
          }
        }
      ]
    },
    {
      "cell_type": "code",
      "source": [
        "cm1 = confusion_matrix(y_true_, y_pred_d1)\n",
        "vegl_1 = int(cm1[0][0]/cm1[0].sum() * 100)\n",
        "neg_1 = int(cm1[1][1]/cm1[1].sum() * 100)\n",
        "neutral_1 = int(cm1[2][2]/cm1[2].sum() * 100)\n",
        "posit_1 = int(cm1[3][3]/cm1[3].sum() * 100)\n",
        "umor_1 = int(cm1[4][4]/cm1[4].sum() * 100)"
      ],
      "metadata": {
        "id": "Lug_C1GTjArs"
      },
      "execution_count": null,
      "outputs": []
    },
    {
      "cell_type": "markdown",
      "source": [
        "## without preprocess"
      ],
      "metadata": {
        "id": "yJM1PoKOh41V"
      }
    },
    {
      "cell_type": "code",
      "source": [
        "df_test = pd.read_excel('тестовая выборка.xlsx',skiprows=1)#, sheet_name='Comments',skiprows=1)  \n",
        "df_test = df_test[['Текст','Эмоциональный окрас']]\n",
        "df_test.drop(df_test[df_test['Эмоциональный окрас']=='Неопределенность'].index, inplace=True)"
      ],
      "metadata": {
        "id": "9gQs28G6o7SH"
      },
      "execution_count": null,
      "outputs": []
    },
    {
      "cell_type": "code",
      "source": [
        "tokenizer = RegexTokenizer()\n",
        "FastTextSocialNetworkModel.MODEL_PATH = 'fasttext-social-network-model.bin'\n",
        "model = FastTextSocialNetworkModel(tokenizer=tokenizer)\n",
        "\n",
        "results_new = model.predict(df_test['Текст'], k = 2)"
      ],
      "metadata": {
        "colab": {
          "base_uri": "https://localhost:8080/"
        },
        "id": "xojtbSyHhx4b",
        "outputId": "41fabde1-a641-4e7c-d290-d5a3e12b1a73"
      },
      "execution_count": null,
      "outputs": [
        {
          "output_type": "stream",
          "name": "stderr",
          "text": [
            "Warning : `load_model` does not return WordVectorModel or SupervisedModel any more, but a `FastText` object which is very similar.\n"
          ]
        }
      ]
    },
    {
      "cell_type": "code",
      "source": [
        "df_test[\"Результаты dostoevsky\"] = pd.Series([max(_a.items(), key=lambda x: x[1])[0] for _a in results_new])"
      ],
      "metadata": {
        "id": "DnBHQN2AhyAH"
      },
      "execution_count": null,
      "outputs": []
    },
    {
      "cell_type": "code",
      "source": [
        "df_test[\"Результаты dostoevsky\"] =  np.where((df_test[\"Результаты dostoevsky\"] == 'neutral'),'Нейтральность', df_test[\"Результаты dostoevsky\"])\n",
        "df_test[\"Результаты dostoevsky\"] =  np.where((df_test[\"Результаты dostoevsky\"] == 'positive'),'Позитив', df_test[\"Результаты dostoevsky\"])\n",
        "df_test[\"Результаты dostoevsky\"] =  np.where((df_test[\"Результаты dostoevsky\"] == 'skip'),'Нейтральность', df_test[\"Результаты dostoevsky\"])\n",
        "df_test[\"Результаты dostoevsky\"] =  np.where((df_test[\"Результаты dostoevsky\"] == 'negative'),'Негатив', df_test[\"Результаты dostoevsky\"])\n",
        "df_test[\"Результаты dostoevsky\"] =  np.where((df_test[\"Результаты dostoevsky\"] == 'speech'),'Нейтральность', df_test[\"Результаты dostoevsky\"])\n",
        "df_test[\"Результаты dostoevsky\"] = df_test[\"Результаты dostoevsky\"].fillna('Нейтральность')"
      ],
      "metadata": {
        "id": "QhORHRaRhyH1"
      },
      "execution_count": null,
      "outputs": []
    },
    {
      "cell_type": "code",
      "source": [
        "accuracy_dost2 = np.round(accuracy_score(y_true_, df_test['Результаты dostoevsky']),4)\n",
        "accuracy_dost2"
      ],
      "metadata": {
        "colab": {
          "base_uri": "https://localhost:8080/"
        },
        "id": "VOgwCoZjhySx",
        "outputId": "fcbe6d3a-ffcc-4d70-82c3-74e8bd0a155b"
      },
      "execution_count": null,
      "outputs": [
        {
          "output_type": "execute_result",
          "data": {
            "text/plain": [
              "0.4823"
            ]
          },
          "metadata": {},
          "execution_count": 103
        }
      ]
    },
    {
      "cell_type": "code",
      "source": [
        "f1_dost2 = np.round(f1_score(y_true_, df_test['Результаты dostoevsky'], average='weighted'),4)\n",
        "f1_dost2"
      ],
      "metadata": {
        "colab": {
          "base_uri": "https://localhost:8080/"
        },
        "id": "cNjhG7yahyaf",
        "outputId": "e9f0106e-5192-449d-dea1-d8dd983a7e08"
      },
      "execution_count": null,
      "outputs": [
        {
          "output_type": "execute_result",
          "data": {
            "text/plain": [
              "0.3189"
            ]
          },
          "metadata": {},
          "execution_count": 104
        }
      ]
    },
    {
      "cell_type": "code",
      "source": [
        "precision_dost2 = np.round(precision_score(y_true_, df_test['Результаты dostoevsky'], average='weighted'),4)\n",
        "precision_dost2"
      ],
      "metadata": {
        "colab": {
          "base_uri": "https://localhost:8080/"
        },
        "id": "IYkFg3vvixWr",
        "outputId": "378c6d26-1365-4510-94d5-ba170bc20426"
      },
      "execution_count": null,
      "outputs": [
        {
          "output_type": "stream",
          "name": "stderr",
          "text": [
            "/usr/local/lib/python3.7/dist-packages/sklearn/metrics/_classification.py:1318: UndefinedMetricWarning: Precision is ill-defined and being set to 0.0 in labels with no predicted samples. Use `zero_division` parameter to control this behavior.\n",
            "  _warn_prf(average, modifier, msg_start, len(result))\n"
          ]
        },
        {
          "output_type": "execute_result",
          "data": {
            "text/plain": [
              "0.3057"
            ]
          },
          "metadata": {},
          "execution_count": 105
        }
      ]
    },
    {
      "cell_type": "code",
      "source": [
        "recall_dost2 = np.round(recall_score(y_true_, df_test['Результаты dostoevsky'], average='weighted'),4)\n",
        "recall_dost2"
      ],
      "metadata": {
        "colab": {
          "base_uri": "https://localhost:8080/"
        },
        "id": "QGOUrwLFixff",
        "outputId": "4981e323-b27e-426c-dfe2-31dd213fd7ea"
      },
      "execution_count": null,
      "outputs": [
        {
          "output_type": "execute_result",
          "data": {
            "text/plain": [
              "0.4823"
            ]
          },
          "metadata": {},
          "execution_count": 106
        }
      ]
    },
    {
      "cell_type": "code",
      "source": [
        "y_pred_d2 = list(df_test['Результаты dostoevsky'])\n",
        "fig, ax = plt.subplots(figsize=(7,7))\n",
        "ConfusionMatrixDisplay.from_predictions(y_true_, y_pred_d2,xticks_rotation='vertical',ax=ax)\n",
        "plt.plot()"
      ],
      "metadata": {
        "colab": {
          "base_uri": "https://localhost:8080/",
          "height": 495
        },
        "id": "ViFVHc9Vixjm",
        "outputId": "2784996b-8a9f-48bd-d6ad-eb6af01db089"
      },
      "execution_count": null,
      "outputs": [
        {
          "output_type": "execute_result",
          "data": {
            "text/plain": [
              "[]"
            ]
          },
          "metadata": {},
          "execution_count": 107
        },
        {
          "output_type": "display_data",
          "data": {
            "text/plain": [
              "<Figure size 504x504 with 2 Axes>"
            ],
            "image/png": "[encoded data removed]"
          },
          "metadata": {
            "needs_background": "light"
          }
        }
      ]
    },
    {
      "cell_type": "code",
      "source": [
        "cm2 = confusion_matrix(y_true_, y_pred_d2)\n",
        "vegl_2 = int(cm2[0][0]/cm2[0].sum() * 100)\n",
        "neg_2 = int(cm2[1][1]/cm2[1].sum() * 100)\n",
        "neutral_2 = int(cm2[2][2]/cm2[2].sum() * 100)\n",
        "posit_2 = int(cm2[3][3]/cm2[3].sum() * 100)\n",
        "umor_2 = int(cm2[4][4]/cm2[4].sum() * 100)"
      ],
      "metadata": {
        "id": "HAH9OHpxixoN"
      },
      "execution_count": null,
      "outputs": []
    },
    {
      "cell_type": "code",
      "source": [
        "res_perc = {'Вежливость %': [vegl_lstm,vegl_1,vegl_2], 'Негатив %': [neg_lstm,neg_1,neg_2], 'Нейтральность %': [neutral_lstm,neutral_1,neutral_2], 'Позитив %': [posit_lstm,posit_1,posit_2], 'Юмор %': [umor_lstm,umor_1,umor_2]}\n",
        "df_res = pd.DataFrame(data=res_perc, index=['LSTM', 'dostoevsky with preprocess','dostoevsky'])\n",
        "df_res"
      ],
      "metadata": {
        "colab": {
          "base_uri": "https://localhost:8080/",
          "height": 140
        },
        "id": "BErDrhDDkZT4",
        "outputId": "6b57e34e-81b7-4d09-ddff-a1684f83d46e"
      },
      "execution_count": null,
      "outputs": [
        {
          "output_type": "execute_result",
          "data": {
            "text/plain": [
              "                            Вежливость %  Негатив %  Нейтральность %  \\\n",
              "LSTM                                  47         38               67   \n",
              "dostoevsky with preprocess             0          1               98   \n",
              "dostoevsky                             0          0               98   \n",
              "\n",
              "                            Позитив %  Юмор %  \n",
              "LSTM                               18       2  \n",
              "dostoevsky with preprocess          0       0  \n",
              "dostoevsky                          0       0  "
            ],
            "text/html": [
              "\n",
              "  <div id=\"df-abd57595-1d5c-4bc0-8c8c-75ed16228b3f\">\n",
              "    <div class=\"colab-df-container\">\n",
              "      <div>\n",
              "<style scoped>\n",
              "    .dataframe tbody tr th:only-of-type {\n",
              "        vertical-align: middle;\n",
              "    }\n",
              "\n",
              "    .dataframe tbody tr th {\n",
              "        vertical-align: top;\n",
              "    }\n",
              "\n",
              "    .dataframe thead th {\n",
              "        text-align: right;\n",
              "    }\n",
              "</style>\n",
              "<table border=\"1\" class=\"dataframe\">\n",
              "  <thead>\n",
              "    <tr style=\"text-align: right;\">\n",
              "      <th></th>\n",
              "      <th>Вежливость %</th>\n",
              "      <th>Негатив %</th>\n",
              "      <th>Нейтральность %</th>\n",
              "      <th>Позитив %</th>\n",
              "      <th>Юмор %</th>\n",
              "    </tr>\n",
              "  </thead>\n",
              "  <tbody>\n",
              "    <tr>\n",
              "      <th>LSTM</th>\n",
              "      <td>47</td>\n",
              "      <td>38</td>\n",
              "      <td>67</td>\n",
              "      <td>18</td>\n",
              "      <td>2</td>\n",
              "    </tr>\n",
              "    <tr>\n",
              "      <th>dostoevsky with preprocess</th>\n",
              "      <td>0</td>\n",
              "      <td>1</td>\n",
              "      <td>98</td>\n",
              "      <td>0</td>\n",
              "      <td>0</td>\n",
              "    </tr>\n",
              "    <tr>\n",
              "      <th>dostoevsky</th>\n",
              "      <td>0</td>\n",
              "      <td>0</td>\n",
              "      <td>98</td>\n",
              "      <td>0</td>\n",
              "      <td>0</td>\n",
              "    </tr>\n",
              "  </tbody>\n",
              "</table>\n",
              "</div>\n",
              "      <button class=\"colab-df-convert\" onclick=\"convertToInteractive('df-abd57595-1d5c-4bc0-8c8c-75ed16228b3f')\"\n",
              "              title=\"Convert this dataframe to an interactive table.\"\n",
              "              style=\"display:none;\">\n",
              "        \n",
              "  <svg xmlns=\"http://www.w3.org/2000/svg\" height=\"24px\"viewBox=\"0 0 24 24\"\n",
              "       width=\"24px\">\n",
              "    <path d=\"M0 0h24v24H0V0z\" fill=\"none\"/>\n",
              "    <path d=\"M18.56 5.44l.94 2.06.94-2.06 2.06-.94-2.06-.94-.94-2.06-.94 2.06-2.06.94zm-11 1L8.5 8.5l.94-2.06 2.06-.94-2.06-.94L8.5 2.5l-.94 2.06-2.06.94zm10 10l.94 2.06.94-2.06 2.06-.94-2.06-.94-.94-2.06-.94 2.06-2.06.94z\"/><path d=\"M17.41 7.96l-1.37-1.37c-.4-.4-.92-.59-1.43-.59-.52 0-1.04.2-1.43.59L10.3 9.45l-7.72 7.72c-.78.78-.78 2.05 0 2.83L4 21.41c.39.39.9.59 1.41.59.51 0 1.02-.2 1.41-.59l7.78-7.78 2.81-2.81c.8-.78.8-2.07 0-2.86zM5.41 20L4 18.59l7.72-7.72 1.47 1.35L5.41 20z\"/>\n",
              "  </svg>\n",
              "      </button>\n",
              "      \n",
              "  <style>\n",
              "    .colab-df-container {\n",
              "      display:flex;\n",
              "      flex-wrap:wrap;\n",
              "      gap: 12px;\n",
              "    }\n",
              "\n",
              "    .colab-df-convert {\n",
              "      background-color: #E8F0FE;\n",
              "      border: none;\n",
              "      border-radius: 50%;\n",
              "      cursor: pointer;\n",
              "      display: none;\n",
              "      fill: #1967D2;\n",
              "      height: 32px;\n",
              "      padding: 0 0 0 0;\n",
              "      width: 32px;\n",
              "    }\n",
              "\n",
              "    .colab-df-convert:hover {\n",
              "      background-color: #E2EBFA;\n",
              "      box-shadow: 0px 1px 2px rgba(60, 64, 67, 0.3), 0px 1px 3px 1px rgba(60, 64, 67, 0.15);\n",
              "      fill: #174EA6;\n",
              "    }\n",
              "\n",
              "    [theme=dark] .colab-df-convert {\n",
              "      background-color: #3B4455;\n",
              "      fill: #D2E3FC;\n",
              "    }\n",
              "\n",
              "    [theme=dark] .colab-df-convert:hover {\n",
              "      background-color: #434B5C;\n",
              "      box-shadow: 0px 1px 3px 1px rgba(0, 0, 0, 0.15);\n",
              "      filter: drop-shadow(0px 1px 2px rgba(0, 0, 0, 0.3));\n",
              "      fill: #FFFFFF;\n",
              "    }\n",
              "  </style>\n",
              "\n",
              "      <script>\n",
              "        const buttonEl =\n",
              "          document.querySelector('#df-abd57595-1d5c-4bc0-8c8c-75ed16228b3f button.colab-df-convert');\n",
              "        buttonEl.style.display =\n",
              "          google.colab.kernel.accessAllowed ? 'block' : 'none';\n",
              "\n",
              "        async function convertToInteractive(key) {\n",
              "          const element = document.querySelector('#df-abd57595-1d5c-4bc0-8c8c-75ed16228b3f');\n",
              "          const dataTable =\n",
              "            await google.colab.kernel.invokeFunction('convertToInteractive',\n",
              "                                                     [key], {});\n",
              "          if (!dataTable) return;\n",
              "\n",
              "          const docLinkHtml = 'Like what you see? Visit the ' +\n",
              "            '<a target=\"_blank\" href=https://colab.research.google.com/notebooks/data_table.ipynb>data table notebook</a>'\n",
              "            + ' to learn more about interactive tables.';\n",
              "          element.innerHTML = '';\n",
              "          dataTable['output_type'] = 'display_data';\n",
              "          await google.colab.output.renderOutput(dataTable, element);\n",
              "          const docLink = document.createElement('div');\n",
              "          docLink.innerHTML = docLinkHtml;\n",
              "          element.appendChild(docLink);\n",
              "        }\n",
              "      </script>\n",
              "    </div>\n",
              "  </div>\n",
              "  "
            ]
          },
          "metadata": {},
          "execution_count": 109
        }
      ]
    },
    {
      "cell_type": "code",
      "source": [
        "d = {'accuracy score': [accuracy_lstm,accuracy_dost1,accuracy_dost2], 'f1 score': [f1_lstm,f1_dost1,f1_dost2], 'precision score': [precision_lstm,precision_dost1,precision_dost2], 'recall score': [recall_lstm,recall_dost1,recall_dost2]}\n",
        "df_new = pd.DataFrame(data=d, index=['LSTM', 'dostoevsky with preprocess','dostoevsky'])\n",
        "df_new"
      ],
      "metadata": {
        "id": "U5VuUCjX6pVN",
        "colab": {
          "base_uri": "https://localhost:8080/",
          "height": 140
        },
        "outputId": "2dca9bfa-8036-4ff1-f6e6-7c18505a3feb"
      },
      "execution_count": null,
      "outputs": [
        {
          "output_type": "execute_result",
          "data": {
            "text/plain": [
              "                            accuracy score  f1 score  precision score  \\\n",
              "LSTM                                0.4386    0.4203           0.5335   \n",
              "dostoevsky with preprocess          0.4855    0.3255           0.4333   \n",
              "dostoevsky                          0.4823    0.3189           0.3057   \n",
              "\n",
              "                            recall score  \n",
              "LSTM                              0.4386  \n",
              "dostoevsky with preprocess        0.4855  \n",
              "dostoevsky                        0.4823  "
            ],
            "text/html": [
              "\n",
              "  <div id=\"df-cca3665a-08ec-4f12-a463-01a650e7c8f9\">\n",
              "    <div class=\"colab-df-container\">\n",
              "      <div>\n",
              "<style scoped>\n",
              "    .dataframe tbody tr th:only-of-type {\n",
              "        vertical-align: middle;\n",
              "    }\n",
              "\n",
              "    .dataframe tbody tr th {\n",
              "        vertical-align: top;\n",
              "    }\n",
              "\n",
              "    .dataframe thead th {\n",
              "        text-align: right;\n",
              "    }\n",
              "</style>\n",
              "<table border=\"1\" class=\"dataframe\">\n",
              "  <thead>\n",
              "    <tr style=\"text-align: right;\">\n",
              "      <th></th>\n",
              "      <th>accuracy score</th>\n",
              "      <th>f1 score</th>\n",
              "      <th>precision score</th>\n",
              "      <th>recall score</th>\n",
              "    </tr>\n",
              "  </thead>\n",
              "  <tbody>\n",
              "    <tr>\n",
              "      <th>LSTM</th>\n",
              "      <td>0.4386</td>\n",
              "      <td>0.4203</td>\n",
              "      <td>0.5335</td>\n",
              "      <td>0.4386</td>\n",
              "    </tr>\n",
              "    <tr>\n",
              "      <th>dostoevsky with preprocess</th>\n",
              "      <td>0.4855</td>\n",
              "      <td>0.3255</td>\n",
              "      <td>0.4333</td>\n",
              "      <td>0.4855</td>\n",
              "    </tr>\n",
              "    <tr>\n",
              "      <th>dostoevsky</th>\n",
              "      <td>0.4823</td>\n",
              "      <td>0.3189</td>\n",
              "      <td>0.3057</td>\n",
              "      <td>0.4823</td>\n",
              "    </tr>\n",
              "  </tbody>\n",
              "</table>\n",
              "</div>\n",
              "      <button class=\"colab-df-convert\" onclick=\"convertToInteractive('df-cca3665a-08ec-4f12-a463-01a650e7c8f9')\"\n",
              "              title=\"Convert this dataframe to an interactive table.\"\n",
              "              style=\"display:none;\">\n",
              "        \n",
              "  <svg xmlns=\"http://www.w3.org/2000/svg\" height=\"24px\"viewBox=\"0 0 24 24\"\n",
              "       width=\"24px\">\n",
              "    <path d=\"M0 0h24v24H0V0z\" fill=\"none\"/>\n",
              "    <path d=\"M18.56 5.44l.94 2.06.94-2.06 2.06-.94-2.06-.94-.94-2.06-.94 2.06-2.06.94zm-11 1L8.5 8.5l.94-2.06 2.06-.94-2.06-.94L8.5 2.5l-.94 2.06-2.06.94zm10 10l.94 2.06.94-2.06 2.06-.94-2.06-.94-.94-2.06-.94 2.06-2.06.94z\"/><path d=\"M17.41 7.96l-1.37-1.37c-.4-.4-.92-.59-1.43-.59-.52 0-1.04.2-1.43.59L10.3 9.45l-7.72 7.72c-.78.78-.78 2.05 0 2.83L4 21.41c.39.39.9.59 1.41.59.51 0 1.02-.2 1.41-.59l7.78-7.78 2.81-2.81c.8-.78.8-2.07 0-2.86zM5.41 20L4 18.59l7.72-7.72 1.47 1.35L5.41 20z\"/>\n",
              "  </svg>\n",
              "      </button>\n",
              "      \n",
              "  <style>\n",
              "    .colab-df-container {\n",
              "      display:flex;\n",
              "      flex-wrap:wrap;\n",
              "      gap: 12px;\n",
              "    }\n",
              "\n",
              "    .colab-df-convert {\n",
              "      background-color: #E8F0FE;\n",
              "      border: none;\n",
              "      border-radius: 50%;\n",
              "      cursor: pointer;\n",
              "      display: none;\n",
              "      fill: #1967D2;\n",
              "      height: 32px;\n",
              "      padding: 0 0 0 0;\n",
              "      width: 32px;\n",
              "    }\n",
              "\n",
              "    .colab-df-convert:hover {\n",
              "      background-color: #E2EBFA;\n",
              "      box-shadow: 0px 1px 2px rgba(60, 64, 67, 0.3), 0px 1px 3px 1px rgba(60, 64, 67, 0.15);\n",
              "      fill: #174EA6;\n",
              "    }\n",
              "\n",
              "    [theme=dark] .colab-df-convert {\n",
              "      background-color: #3B4455;\n",
              "      fill: #D2E3FC;\n",
              "    }\n",
              "\n",
              "    [theme=dark] .colab-df-convert:hover {\n",
              "      background-color: #434B5C;\n",
              "      box-shadow: 0px 1px 3px 1px rgba(0, 0, 0, 0.15);\n",
              "      filter: drop-shadow(0px 1px 2px rgba(0, 0, 0, 0.3));\n",
              "      fill: #FFFFFF;\n",
              "    }\n",
              "  </style>\n",
              "\n",
              "      <script>\n",
              "        const buttonEl =\n",
              "          document.querySelector('#df-cca3665a-08ec-4f12-a463-01a650e7c8f9 button.colab-df-convert');\n",
              "        buttonEl.style.display =\n",
              "          google.colab.kernel.accessAllowed ? 'block' : 'none';\n",
              "\n",
              "        async function convertToInteractive(key) {\n",
              "          const element = document.querySelector('#df-cca3665a-08ec-4f12-a463-01a650e7c8f9');\n",
              "          const dataTable =\n",
              "            await google.colab.kernel.invokeFunction('convertToInteractive',\n",
              "                                                     [key], {});\n",
              "          if (!dataTable) return;\n",
              "\n",
              "          const docLinkHtml = 'Like what you see? Visit the ' +\n",
              "            '<a target=\"_blank\" href=https://colab.research.google.com/notebooks/data_table.ipynb>data table notebook</a>'\n",
              "            + ' to learn more about interactive tables.';\n",
              "          element.innerHTML = '';\n",
              "          dataTable['output_type'] = 'display_data';\n",
              "          await google.colab.output.renderOutput(dataTable, element);\n",
              "          const docLink = document.createElement('div');\n",
              "          docLink.innerHTML = docLinkHtml;\n",
              "          element.appendChild(docLink);\n",
              "        }\n",
              "      </script>\n",
              "    </div>\n",
              "  </div>\n",
              "  "
            ]
          },
          "metadata": {},
          "execution_count": 110
        }
      ]
    }
  ]
}